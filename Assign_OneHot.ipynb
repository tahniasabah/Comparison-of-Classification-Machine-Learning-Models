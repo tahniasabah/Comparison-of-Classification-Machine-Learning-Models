{
 "cells": [
  {
   "cell_type": "code",
   "execution_count": 1,
   "metadata": {
    "id": "3SJEaEXLgP3_"
   },
   "outputs": [],
   "source": [
    "import numpy as np\n",
    "import pandas as pd\n",
    "from sklearn.metrics import accuracy_score"
   ]
  },
  {
   "cell_type": "code",
   "execution_count": 2,
   "metadata": {
    "id": "A6VnIIFKgfQQ"
   },
   "outputs": [],
   "source": [
    "df_train = pd.read_csv('CS98XClassificationTrain.csv')\n",
    "df_test = pd.read_csv('CS98XClassificationTest.csv')"
   ]
  },
  {
   "cell_type": "code",
   "execution_count": 3,
   "metadata": {
    "colab": {
     "base_uri": "https://localhost:8080/",
     "height": 337
    },
    "id": "5gUPe0HHgtWM",
    "outputId": "81d59d41-661d-4b23-c177-65730f64474d"
   },
   "outputs": [
    {
     "data": {
      "text/html": [
       "<div>\n",
       "<style scoped>\n",
       "    .dataframe tbody tr th:only-of-type {\n",
       "        vertical-align: middle;\n",
       "    }\n",
       "\n",
       "    .dataframe tbody tr th {\n",
       "        vertical-align: top;\n",
       "    }\n",
       "\n",
       "    .dataframe thead th {\n",
       "        text-align: right;\n",
       "    }\n",
       "</style>\n",
       "<table border=\"1\" class=\"dataframe\">\n",
       "  <thead>\n",
       "    <tr style=\"text-align: right;\">\n",
       "      <th></th>\n",
       "      <th>Id</th>\n",
       "      <th>title</th>\n",
       "      <th>artist</th>\n",
       "      <th>year</th>\n",
       "      <th>bpm</th>\n",
       "      <th>nrgy</th>\n",
       "      <th>dnce</th>\n",
       "      <th>dB</th>\n",
       "      <th>live</th>\n",
       "      <th>val</th>\n",
       "      <th>dur</th>\n",
       "      <th>acous</th>\n",
       "      <th>spch</th>\n",
       "      <th>pop</th>\n",
       "      <th>top genre</th>\n",
       "    </tr>\n",
       "  </thead>\n",
       "  <tbody>\n",
       "    <tr>\n",
       "      <th>0</th>\n",
       "      <td>1</td>\n",
       "      <td>My Happiness</td>\n",
       "      <td>Connie Francis</td>\n",
       "      <td>1996</td>\n",
       "      <td>107</td>\n",
       "      <td>31</td>\n",
       "      <td>45</td>\n",
       "      <td>-8</td>\n",
       "      <td>13</td>\n",
       "      <td>28</td>\n",
       "      <td>150</td>\n",
       "      <td>75</td>\n",
       "      <td>3</td>\n",
       "      <td>44</td>\n",
       "      <td>adult standards</td>\n",
       "    </tr>\n",
       "    <tr>\n",
       "      <th>1</th>\n",
       "      <td>2</td>\n",
       "      <td>Unchained Melody</td>\n",
       "      <td>The Teddy Bears</td>\n",
       "      <td>2011</td>\n",
       "      <td>114</td>\n",
       "      <td>44</td>\n",
       "      <td>53</td>\n",
       "      <td>-8</td>\n",
       "      <td>13</td>\n",
       "      <td>47</td>\n",
       "      <td>139</td>\n",
       "      <td>49</td>\n",
       "      <td>3</td>\n",
       "      <td>37</td>\n",
       "      <td>NaN</td>\n",
       "    </tr>\n",
       "    <tr>\n",
       "      <th>2</th>\n",
       "      <td>3</td>\n",
       "      <td>How Deep Is Your Love</td>\n",
       "      <td>Bee Gees</td>\n",
       "      <td>1979</td>\n",
       "      <td>105</td>\n",
       "      <td>36</td>\n",
       "      <td>63</td>\n",
       "      <td>-9</td>\n",
       "      <td>13</td>\n",
       "      <td>67</td>\n",
       "      <td>245</td>\n",
       "      <td>11</td>\n",
       "      <td>3</td>\n",
       "      <td>77</td>\n",
       "      <td>adult standards</td>\n",
       "    </tr>\n",
       "    <tr>\n",
       "      <th>3</th>\n",
       "      <td>4</td>\n",
       "      <td>Woman in Love</td>\n",
       "      <td>Barbra Streisand</td>\n",
       "      <td>1980</td>\n",
       "      <td>170</td>\n",
       "      <td>28</td>\n",
       "      <td>47</td>\n",
       "      <td>-16</td>\n",
       "      <td>13</td>\n",
       "      <td>33</td>\n",
       "      <td>232</td>\n",
       "      <td>25</td>\n",
       "      <td>3</td>\n",
       "      <td>67</td>\n",
       "      <td>adult standards</td>\n",
       "    </tr>\n",
       "    <tr>\n",
       "      <th>4</th>\n",
       "      <td>5</td>\n",
       "      <td>Goodbye Yellow Brick Road - Remastered 2014</td>\n",
       "      <td>Elton John</td>\n",
       "      <td>1973</td>\n",
       "      <td>121</td>\n",
       "      <td>47</td>\n",
       "      <td>56</td>\n",
       "      <td>-8</td>\n",
       "      <td>15</td>\n",
       "      <td>40</td>\n",
       "      <td>193</td>\n",
       "      <td>45</td>\n",
       "      <td>3</td>\n",
       "      <td>63</td>\n",
       "      <td>glam rock</td>\n",
       "    </tr>\n",
       "  </tbody>\n",
       "</table>\n",
       "</div>"
      ],
      "text/plain": [
       "   Id                                        title            artist  year  \\\n",
       "0   1                                 My Happiness    Connie Francis  1996   \n",
       "1   2                             Unchained Melody   The Teddy Bears  2011   \n",
       "2   3                        How Deep Is Your Love          Bee Gees  1979   \n",
       "3   4                                Woman in Love  Barbra Streisand  1980   \n",
       "4   5  Goodbye Yellow Brick Road - Remastered 2014        Elton John  1973   \n",
       "\n",
       "   bpm  nrgy  dnce  dB  live  val  dur  acous  spch  pop        top genre  \n",
       "0  107    31    45  -8    13   28  150     75     3   44  adult standards  \n",
       "1  114    44    53  -8    13   47  139     49     3   37              NaN  \n",
       "2  105    36    63  -9    13   67  245     11     3   77  adult standards  \n",
       "3  170    28    47 -16    13   33  232     25     3   67  adult standards  \n",
       "4  121    47    56  -8    15   40  193     45     3   63        glam rock  "
      ]
     },
     "execution_count": 3,
     "metadata": {},
     "output_type": "execute_result"
    }
   ],
   "source": [
    "df_train.head()"
   ]
  },
  {
   "cell_type": "code",
   "execution_count": 4,
   "metadata": {
    "colab": {
     "base_uri": "https://localhost:8080/"
    },
    "id": "BKMKmQ_Cgxdk",
    "outputId": "06ad5c0a-41a4-410f-9d91-47a4a5722001"
   },
   "outputs": [
    {
     "data": {
      "text/plain": [
       "Id            0\n",
       "title         0\n",
       "artist        0\n",
       "year          0\n",
       "bpm           0\n",
       "nrgy          0\n",
       "dnce          0\n",
       "dB            0\n",
       "live          0\n",
       "val           0\n",
       "dur           0\n",
       "acous         0\n",
       "spch          0\n",
       "pop           0\n",
       "top genre    15\n",
       "dtype: int64"
      ]
     },
     "execution_count": 4,
     "metadata": {},
     "output_type": "execute_result"
    }
   ],
   "source": [
    "df_train.isna().sum()"
   ]
  },
  {
   "cell_type": "code",
   "execution_count": 5,
   "metadata": {
    "id": "YQLQIBLDg6Ai"
   },
   "outputs": [],
   "source": [
    "df_train.dropna(inplace=True)"
   ]
  },
  {
   "cell_type": "code",
   "execution_count": 6,
   "metadata": {
    "colab": {
     "base_uri": "https://localhost:8080/",
     "height": 320
    },
    "id": "6LalqR7DhGhi",
    "outputId": "07f65bf1-21b7-4b85-b63b-8c6812ee92b7"
   },
   "outputs": [
    {
     "data": {
      "text/html": [
       "<div>\n",
       "<style scoped>\n",
       "    .dataframe tbody tr th:only-of-type {\n",
       "        vertical-align: middle;\n",
       "    }\n",
       "\n",
       "    .dataframe tbody tr th {\n",
       "        vertical-align: top;\n",
       "    }\n",
       "\n",
       "    .dataframe thead th {\n",
       "        text-align: right;\n",
       "    }\n",
       "</style>\n",
       "<table border=\"1\" class=\"dataframe\">\n",
       "  <thead>\n",
       "    <tr style=\"text-align: right;\">\n",
       "      <th></th>\n",
       "      <th>Id</th>\n",
       "      <th>title</th>\n",
       "      <th>artist</th>\n",
       "      <th>year</th>\n",
       "      <th>bpm</th>\n",
       "      <th>nrgy</th>\n",
       "      <th>dnce</th>\n",
       "      <th>dB</th>\n",
       "      <th>live</th>\n",
       "      <th>val</th>\n",
       "      <th>dur</th>\n",
       "      <th>acous</th>\n",
       "      <th>spch</th>\n",
       "      <th>pop</th>\n",
       "      <th>top genre</th>\n",
       "    </tr>\n",
       "  </thead>\n",
       "  <tbody>\n",
       "    <tr>\n",
       "      <th>0</th>\n",
       "      <td>1</td>\n",
       "      <td>My Happiness</td>\n",
       "      <td>Connie Francis</td>\n",
       "      <td>1996</td>\n",
       "      <td>107</td>\n",
       "      <td>31</td>\n",
       "      <td>45</td>\n",
       "      <td>-8</td>\n",
       "      <td>13</td>\n",
       "      <td>28</td>\n",
       "      <td>150</td>\n",
       "      <td>75</td>\n",
       "      <td>3</td>\n",
       "      <td>44</td>\n",
       "      <td>adult standards</td>\n",
       "    </tr>\n",
       "    <tr>\n",
       "      <th>2</th>\n",
       "      <td>3</td>\n",
       "      <td>How Deep Is Your Love</td>\n",
       "      <td>Bee Gees</td>\n",
       "      <td>1979</td>\n",
       "      <td>105</td>\n",
       "      <td>36</td>\n",
       "      <td>63</td>\n",
       "      <td>-9</td>\n",
       "      <td>13</td>\n",
       "      <td>67</td>\n",
       "      <td>245</td>\n",
       "      <td>11</td>\n",
       "      <td>3</td>\n",
       "      <td>77</td>\n",
       "      <td>adult standards</td>\n",
       "    </tr>\n",
       "    <tr>\n",
       "      <th>3</th>\n",
       "      <td>4</td>\n",
       "      <td>Woman in Love</td>\n",
       "      <td>Barbra Streisand</td>\n",
       "      <td>1980</td>\n",
       "      <td>170</td>\n",
       "      <td>28</td>\n",
       "      <td>47</td>\n",
       "      <td>-16</td>\n",
       "      <td>13</td>\n",
       "      <td>33</td>\n",
       "      <td>232</td>\n",
       "      <td>25</td>\n",
       "      <td>3</td>\n",
       "      <td>67</td>\n",
       "      <td>adult standards</td>\n",
       "    </tr>\n",
       "    <tr>\n",
       "      <th>4</th>\n",
       "      <td>5</td>\n",
       "      <td>Goodbye Yellow Brick Road - Remastered 2014</td>\n",
       "      <td>Elton John</td>\n",
       "      <td>1973</td>\n",
       "      <td>121</td>\n",
       "      <td>47</td>\n",
       "      <td>56</td>\n",
       "      <td>-8</td>\n",
       "      <td>15</td>\n",
       "      <td>40</td>\n",
       "      <td>193</td>\n",
       "      <td>45</td>\n",
       "      <td>3</td>\n",
       "      <td>63</td>\n",
       "      <td>glam rock</td>\n",
       "    </tr>\n",
       "    <tr>\n",
       "      <th>5</th>\n",
       "      <td>6</td>\n",
       "      <td>Grenade</td>\n",
       "      <td>Bruno Mars</td>\n",
       "      <td>2010</td>\n",
       "      <td>110</td>\n",
       "      <td>56</td>\n",
       "      <td>71</td>\n",
       "      <td>-7</td>\n",
       "      <td>12</td>\n",
       "      <td>23</td>\n",
       "      <td>223</td>\n",
       "      <td>15</td>\n",
       "      <td>6</td>\n",
       "      <td>74</td>\n",
       "      <td>pop</td>\n",
       "    </tr>\n",
       "  </tbody>\n",
       "</table>\n",
       "</div>"
      ],
      "text/plain": [
       "   Id                                        title            artist  year  \\\n",
       "0   1                                 My Happiness    Connie Francis  1996   \n",
       "2   3                        How Deep Is Your Love          Bee Gees  1979   \n",
       "3   4                                Woman in Love  Barbra Streisand  1980   \n",
       "4   5  Goodbye Yellow Brick Road - Remastered 2014        Elton John  1973   \n",
       "5   6                                      Grenade        Bruno Mars  2010   \n",
       "\n",
       "   bpm  nrgy  dnce  dB  live  val  dur  acous  spch  pop        top genre  \n",
       "0  107    31    45  -8    13   28  150     75     3   44  adult standards  \n",
       "2  105    36    63  -9    13   67  245     11     3   77  adult standards  \n",
       "3  170    28    47 -16    13   33  232     25     3   67  adult standards  \n",
       "4  121    47    56  -8    15   40  193     45     3   63        glam rock  \n",
       "5  110    56    71  -7    12   23  223     15     6   74              pop  "
      ]
     },
     "execution_count": 6,
     "metadata": {},
     "output_type": "execute_result"
    }
   ],
   "source": [
    "df_train.head()"
   ]
  },
  {
   "cell_type": "code",
   "execution_count": 7,
   "metadata": {
    "colab": {
     "base_uri": "https://localhost:8080/",
     "height": 285
    },
    "id": "cNejrtlXhJoY",
    "outputId": "a54f07dc-2702-47b1-90e2-1451a0c95e3f"
   },
   "outputs": [
    {
     "data": {
      "text/html": [
       "<div>\n",
       "<style scoped>\n",
       "    .dataframe tbody tr th:only-of-type {\n",
       "        vertical-align: middle;\n",
       "    }\n",
       "\n",
       "    .dataframe tbody tr th {\n",
       "        vertical-align: top;\n",
       "    }\n",
       "\n",
       "    .dataframe thead th {\n",
       "        text-align: right;\n",
       "    }\n",
       "</style>\n",
       "<table border=\"1\" class=\"dataframe\">\n",
       "  <thead>\n",
       "    <tr style=\"text-align: right;\">\n",
       "      <th></th>\n",
       "      <th>Id</th>\n",
       "      <th>title</th>\n",
       "      <th>artist</th>\n",
       "      <th>year</th>\n",
       "      <th>bpm</th>\n",
       "      <th>nrgy</th>\n",
       "      <th>dnce</th>\n",
       "      <th>dB</th>\n",
       "      <th>live</th>\n",
       "      <th>val</th>\n",
       "      <th>dur</th>\n",
       "      <th>acous</th>\n",
       "      <th>spch</th>\n",
       "      <th>pop</th>\n",
       "    </tr>\n",
       "  </thead>\n",
       "  <tbody>\n",
       "    <tr>\n",
       "      <th>0</th>\n",
       "      <td>454</td>\n",
       "      <td>Pump It</td>\n",
       "      <td>The Black Eyed Peas</td>\n",
       "      <td>2005</td>\n",
       "      <td>154</td>\n",
       "      <td>93</td>\n",
       "      <td>65</td>\n",
       "      <td>-3</td>\n",
       "      <td>75</td>\n",
       "      <td>74</td>\n",
       "      <td>213</td>\n",
       "      <td>1</td>\n",
       "      <td>18</td>\n",
       "      <td>72</td>\n",
       "    </tr>\n",
       "    <tr>\n",
       "      <th>1</th>\n",
       "      <td>455</td>\n",
       "      <td>Circle of Life - From \"The Lion King\"/Soundtra...</td>\n",
       "      <td>Elton John</td>\n",
       "      <td>1994</td>\n",
       "      <td>161</td>\n",
       "      <td>39</td>\n",
       "      <td>30</td>\n",
       "      <td>-15</td>\n",
       "      <td>11</td>\n",
       "      <td>14</td>\n",
       "      <td>292</td>\n",
       "      <td>26</td>\n",
       "      <td>3</td>\n",
       "      <td>59</td>\n",
       "    </tr>\n",
       "    <tr>\n",
       "      <th>2</th>\n",
       "      <td>456</td>\n",
       "      <td>We Are The Champions - Remastered 2011</td>\n",
       "      <td>Queen</td>\n",
       "      <td>1977</td>\n",
       "      <td>64</td>\n",
       "      <td>46</td>\n",
       "      <td>27</td>\n",
       "      <td>-7</td>\n",
       "      <td>12</td>\n",
       "      <td>18</td>\n",
       "      <td>179</td>\n",
       "      <td>38</td>\n",
       "      <td>3</td>\n",
       "      <td>76</td>\n",
       "    </tr>\n",
       "    <tr>\n",
       "      <th>3</th>\n",
       "      <td>457</td>\n",
       "      <td>Insomnia - Radio Edit</td>\n",
       "      <td>Faithless</td>\n",
       "      <td>2010</td>\n",
       "      <td>127</td>\n",
       "      <td>92</td>\n",
       "      <td>71</td>\n",
       "      <td>-9</td>\n",
       "      <td>37</td>\n",
       "      <td>53</td>\n",
       "      <td>216</td>\n",
       "      <td>6</td>\n",
       "      <td>4</td>\n",
       "      <td>50</td>\n",
       "    </tr>\n",
       "    <tr>\n",
       "      <th>4</th>\n",
       "      <td>458</td>\n",
       "      <td>This Eve of Parting</td>\n",
       "      <td>John Hartford</td>\n",
       "      <td>2018</td>\n",
       "      <td>115</td>\n",
       "      <td>46</td>\n",
       "      <td>56</td>\n",
       "      <td>-12</td>\n",
       "      <td>21</td>\n",
       "      <td>34</td>\n",
       "      <td>153</td>\n",
       "      <td>18</td>\n",
       "      <td>3</td>\n",
       "      <td>44</td>\n",
       "    </tr>\n",
       "  </tbody>\n",
       "</table>\n",
       "</div>"
      ],
      "text/plain": [
       "    Id                                              title  \\\n",
       "0  454                                            Pump It   \n",
       "1  455  Circle of Life - From \"The Lion King\"/Soundtra...   \n",
       "2  456             We Are The Champions - Remastered 2011   \n",
       "3  457                              Insomnia - Radio Edit   \n",
       "4  458                                This Eve of Parting   \n",
       "\n",
       "                artist  year  bpm  nrgy  dnce  dB  live  val  dur  acous  \\\n",
       "0  The Black Eyed Peas  2005  154    93    65  -3    75   74  213      1   \n",
       "1           Elton John  1994  161    39    30 -15    11   14  292     26   \n",
       "2                Queen  1977   64    46    27  -7    12   18  179     38   \n",
       "3            Faithless  2010  127    92    71  -9    37   53  216      6   \n",
       "4        John Hartford  2018  115    46    56 -12    21   34  153     18   \n",
       "\n",
       "   spch  pop  \n",
       "0    18   72  \n",
       "1     3   59  \n",
       "2     3   76  \n",
       "3     4   50  \n",
       "4     3   44  "
      ]
     },
     "execution_count": 7,
     "metadata": {},
     "output_type": "execute_result"
    }
   ],
   "source": [
    "df_test.head()"
   ]
  },
  {
   "cell_type": "code",
   "execution_count": 8,
   "metadata": {
    "colab": {
     "base_uri": "https://localhost:8080/"
    },
    "id": "XNRe-ylUGS0R",
    "outputId": "7a68d10b-36bb-4b21-de5f-970682809196"
   },
   "outputs": [
    {
     "data": {
      "text/plain": [
       "Elton John     9\n",
       "Queen          7\n",
       "ABBA           7\n",
       "The Beatles    6\n",
       "Rihanna        5\n",
       "              ..\n",
       "Paul Young     1\n",
       "Keri Hilson    1\n",
       "Four Tops      1\n",
       "La Bouche      1\n",
       "*NSYNC         1\n",
       "Name: artist, Length: 331, dtype: int64"
      ]
     },
     "execution_count": 8,
     "metadata": {},
     "output_type": "execute_result"
    }
   ],
   "source": [
    "df_train['artist'].value_counts()"
   ]
  },
  {
   "cell_type": "code",
   "execution_count": 9,
   "metadata": {
    "colab": {
     "base_uri": "https://localhost:8080/"
    },
    "id": "ROc6wKLiijIl",
    "outputId": "ea2f40e2-9161-4f3d-92cf-29b51b556423"
   },
   "outputs": [
    {
     "data": {
      "text/plain": [
       "adult standards       68\n",
       "album rock            66\n",
       "dance pop             61\n",
       "brill building pop    16\n",
       "glam rock             16\n",
       "                      ..\n",
       "bow pop                1\n",
       "australian rock        1\n",
       "boogaloo               1\n",
       "british comedy         1\n",
       "alternative rock       1\n",
       "Name: top genre, Length: 86, dtype: int64"
      ]
     },
     "execution_count": 9,
     "metadata": {},
     "output_type": "execute_result"
    }
   ],
   "source": [
    "df_train['top genre'].value_counts()"
   ]
  },
  {
   "cell_type": "code",
   "execution_count": 10,
   "metadata": {
    "id": "GTnumgB7lCsd"
   },
   "outputs": [],
   "source": [
    "df_train = df_train.drop('Id',axis=1)\n",
    "df_train = df_train.drop('title',axis=1)\n",
    "\n",
    "\n",
    "df_test = df_test.drop('Id',axis=1)\n",
    "df_test = df_test.drop('title',axis=1)"
   ]
  },
  {
   "cell_type": "code",
   "execution_count": 11,
   "metadata": {
    "colab": {
     "base_uri": "https://localhost:8080/",
     "height": 206
    },
    "id": "YQUpKH8ElCnj",
    "outputId": "f9be7f7c-e40c-40f7-f166-705082c9d554"
   },
   "outputs": [
    {
     "data": {
      "text/html": [
       "<div>\n",
       "<style scoped>\n",
       "    .dataframe tbody tr th:only-of-type {\n",
       "        vertical-align: middle;\n",
       "    }\n",
       "\n",
       "    .dataframe tbody tr th {\n",
       "        vertical-align: top;\n",
       "    }\n",
       "\n",
       "    .dataframe thead th {\n",
       "        text-align: right;\n",
       "    }\n",
       "</style>\n",
       "<table border=\"1\" class=\"dataframe\">\n",
       "  <thead>\n",
       "    <tr style=\"text-align: right;\">\n",
       "      <th></th>\n",
       "      <th>artist</th>\n",
       "      <th>year</th>\n",
       "      <th>bpm</th>\n",
       "      <th>nrgy</th>\n",
       "      <th>dnce</th>\n",
       "      <th>dB</th>\n",
       "      <th>live</th>\n",
       "      <th>val</th>\n",
       "      <th>dur</th>\n",
       "      <th>acous</th>\n",
       "      <th>spch</th>\n",
       "      <th>pop</th>\n",
       "      <th>top genre</th>\n",
       "    </tr>\n",
       "  </thead>\n",
       "  <tbody>\n",
       "    <tr>\n",
       "      <th>0</th>\n",
       "      <td>Connie Francis</td>\n",
       "      <td>1996</td>\n",
       "      <td>107</td>\n",
       "      <td>31</td>\n",
       "      <td>45</td>\n",
       "      <td>-8</td>\n",
       "      <td>13</td>\n",
       "      <td>28</td>\n",
       "      <td>150</td>\n",
       "      <td>75</td>\n",
       "      <td>3</td>\n",
       "      <td>44</td>\n",
       "      <td>adult standards</td>\n",
       "    </tr>\n",
       "    <tr>\n",
       "      <th>2</th>\n",
       "      <td>Bee Gees</td>\n",
       "      <td>1979</td>\n",
       "      <td>105</td>\n",
       "      <td>36</td>\n",
       "      <td>63</td>\n",
       "      <td>-9</td>\n",
       "      <td>13</td>\n",
       "      <td>67</td>\n",
       "      <td>245</td>\n",
       "      <td>11</td>\n",
       "      <td>3</td>\n",
       "      <td>77</td>\n",
       "      <td>adult standards</td>\n",
       "    </tr>\n",
       "    <tr>\n",
       "      <th>3</th>\n",
       "      <td>Barbra Streisand</td>\n",
       "      <td>1980</td>\n",
       "      <td>170</td>\n",
       "      <td>28</td>\n",
       "      <td>47</td>\n",
       "      <td>-16</td>\n",
       "      <td>13</td>\n",
       "      <td>33</td>\n",
       "      <td>232</td>\n",
       "      <td>25</td>\n",
       "      <td>3</td>\n",
       "      <td>67</td>\n",
       "      <td>adult standards</td>\n",
       "    </tr>\n",
       "    <tr>\n",
       "      <th>4</th>\n",
       "      <td>Elton John</td>\n",
       "      <td>1973</td>\n",
       "      <td>121</td>\n",
       "      <td>47</td>\n",
       "      <td>56</td>\n",
       "      <td>-8</td>\n",
       "      <td>15</td>\n",
       "      <td>40</td>\n",
       "      <td>193</td>\n",
       "      <td>45</td>\n",
       "      <td>3</td>\n",
       "      <td>63</td>\n",
       "      <td>glam rock</td>\n",
       "    </tr>\n",
       "    <tr>\n",
       "      <th>5</th>\n",
       "      <td>Bruno Mars</td>\n",
       "      <td>2010</td>\n",
       "      <td>110</td>\n",
       "      <td>56</td>\n",
       "      <td>71</td>\n",
       "      <td>-7</td>\n",
       "      <td>12</td>\n",
       "      <td>23</td>\n",
       "      <td>223</td>\n",
       "      <td>15</td>\n",
       "      <td>6</td>\n",
       "      <td>74</td>\n",
       "      <td>pop</td>\n",
       "    </tr>\n",
       "  </tbody>\n",
       "</table>\n",
       "</div>"
      ],
      "text/plain": [
       "             artist  year  bpm  nrgy  dnce  dB  live  val  dur  acous  spch  \\\n",
       "0    Connie Francis  1996  107    31    45  -8    13   28  150     75     3   \n",
       "2          Bee Gees  1979  105    36    63  -9    13   67  245     11     3   \n",
       "3  Barbra Streisand  1980  170    28    47 -16    13   33  232     25     3   \n",
       "4        Elton John  1973  121    47    56  -8    15   40  193     45     3   \n",
       "5        Bruno Mars  2010  110    56    71  -7    12   23  223     15     6   \n",
       "\n",
       "   pop        top genre  \n",
       "0   44  adult standards  \n",
       "2   77  adult standards  \n",
       "3   67  adult standards  \n",
       "4   63        glam rock  \n",
       "5   74              pop  "
      ]
     },
     "execution_count": 11,
     "metadata": {},
     "output_type": "execute_result"
    }
   ],
   "source": [
    "df_train.head()"
   ]
  },
  {
   "cell_type": "code",
   "execution_count": 12,
   "metadata": {
    "colab": {
     "base_uri": "https://localhost:8080/",
     "height": 206
    },
    "id": "__zC6L6IlCmC",
    "outputId": "2eaba160-a36a-40d6-fcad-15f90b9729b5"
   },
   "outputs": [
    {
     "data": {
      "text/html": [
       "<div>\n",
       "<style scoped>\n",
       "    .dataframe tbody tr th:only-of-type {\n",
       "        vertical-align: middle;\n",
       "    }\n",
       "\n",
       "    .dataframe tbody tr th {\n",
       "        vertical-align: top;\n",
       "    }\n",
       "\n",
       "    .dataframe thead th {\n",
       "        text-align: right;\n",
       "    }\n",
       "</style>\n",
       "<table border=\"1\" class=\"dataframe\">\n",
       "  <thead>\n",
       "    <tr style=\"text-align: right;\">\n",
       "      <th></th>\n",
       "      <th>artist</th>\n",
       "      <th>year</th>\n",
       "      <th>bpm</th>\n",
       "      <th>nrgy</th>\n",
       "      <th>dnce</th>\n",
       "      <th>dB</th>\n",
       "      <th>live</th>\n",
       "      <th>val</th>\n",
       "      <th>dur</th>\n",
       "      <th>acous</th>\n",
       "      <th>spch</th>\n",
       "      <th>pop</th>\n",
       "    </tr>\n",
       "  </thead>\n",
       "  <tbody>\n",
       "    <tr>\n",
       "      <th>0</th>\n",
       "      <td>The Black Eyed Peas</td>\n",
       "      <td>2005</td>\n",
       "      <td>154</td>\n",
       "      <td>93</td>\n",
       "      <td>65</td>\n",
       "      <td>-3</td>\n",
       "      <td>75</td>\n",
       "      <td>74</td>\n",
       "      <td>213</td>\n",
       "      <td>1</td>\n",
       "      <td>18</td>\n",
       "      <td>72</td>\n",
       "    </tr>\n",
       "    <tr>\n",
       "      <th>1</th>\n",
       "      <td>Elton John</td>\n",
       "      <td>1994</td>\n",
       "      <td>161</td>\n",
       "      <td>39</td>\n",
       "      <td>30</td>\n",
       "      <td>-15</td>\n",
       "      <td>11</td>\n",
       "      <td>14</td>\n",
       "      <td>292</td>\n",
       "      <td>26</td>\n",
       "      <td>3</td>\n",
       "      <td>59</td>\n",
       "    </tr>\n",
       "    <tr>\n",
       "      <th>2</th>\n",
       "      <td>Queen</td>\n",
       "      <td>1977</td>\n",
       "      <td>64</td>\n",
       "      <td>46</td>\n",
       "      <td>27</td>\n",
       "      <td>-7</td>\n",
       "      <td>12</td>\n",
       "      <td>18</td>\n",
       "      <td>179</td>\n",
       "      <td>38</td>\n",
       "      <td>3</td>\n",
       "      <td>76</td>\n",
       "    </tr>\n",
       "    <tr>\n",
       "      <th>3</th>\n",
       "      <td>Faithless</td>\n",
       "      <td>2010</td>\n",
       "      <td>127</td>\n",
       "      <td>92</td>\n",
       "      <td>71</td>\n",
       "      <td>-9</td>\n",
       "      <td>37</td>\n",
       "      <td>53</td>\n",
       "      <td>216</td>\n",
       "      <td>6</td>\n",
       "      <td>4</td>\n",
       "      <td>50</td>\n",
       "    </tr>\n",
       "    <tr>\n",
       "      <th>4</th>\n",
       "      <td>John Hartford</td>\n",
       "      <td>2018</td>\n",
       "      <td>115</td>\n",
       "      <td>46</td>\n",
       "      <td>56</td>\n",
       "      <td>-12</td>\n",
       "      <td>21</td>\n",
       "      <td>34</td>\n",
       "      <td>153</td>\n",
       "      <td>18</td>\n",
       "      <td>3</td>\n",
       "      <td>44</td>\n",
       "    </tr>\n",
       "  </tbody>\n",
       "</table>\n",
       "</div>"
      ],
      "text/plain": [
       "                artist  year  bpm  nrgy  dnce  dB  live  val  dur  acous  \\\n",
       "0  The Black Eyed Peas  2005  154    93    65  -3    75   74  213      1   \n",
       "1           Elton John  1994  161    39    30 -15    11   14  292     26   \n",
       "2                Queen  1977   64    46    27  -7    12   18  179     38   \n",
       "3            Faithless  2010  127    92    71  -9    37   53  216      6   \n",
       "4        John Hartford  2018  115    46    56 -12    21   34  153     18   \n",
       "\n",
       "   spch  pop  \n",
       "0    18   72  \n",
       "1     3   59  \n",
       "2     3   76  \n",
       "3     4   50  \n",
       "4     3   44  "
      ]
     },
     "execution_count": 12,
     "metadata": {},
     "output_type": "execute_result"
    }
   ],
   "source": [
    "df_test.head()"
   ]
  },
  {
   "cell_type": "code",
   "execution_count": 13,
   "metadata": {
    "colab": {
     "base_uri": "https://localhost:8080/"
    },
    "id": "Nl2O5FPplCZD",
    "outputId": "330dc753-5a27-4ef6-ddb7-fca20eba9e8b"
   },
   "outputs": [
    {
     "data": {
      "text/plain": [
       "adult standards       68\n",
       "album rock            66\n",
       "dance pop             61\n",
       "brill building pop    16\n",
       "glam rock             16\n",
       "                      ..\n",
       "bow pop                1\n",
       "australian rock        1\n",
       "boogaloo               1\n",
       "british comedy         1\n",
       "alternative rock       1\n",
       "Name: top genre, Length: 86, dtype: int64"
      ]
     },
     "execution_count": 13,
     "metadata": {},
     "output_type": "execute_result"
    }
   ],
   "source": [
    "df_train['top genre'].value_counts()"
   ]
  },
  {
   "cell_type": "code",
   "execution_count": 14,
   "metadata": {
    "colab": {
     "base_uri": "https://localhost:8080/",
     "height": 595
    },
    "id": "OCsFwl3kjn0S",
    "outputId": "bb492c65-48b1-497f-97ab-ab10478bf759"
   },
   "outputs": [
    {
     "data": {
      "image/png": "[encoded data removed]",
      "text/plain": [
       "<Figure size 720x720 with 2 Axes>"
      ]
     },
     "metadata": {
      "needs_background": "light"
     },
     "output_type": "display_data"
    }
   ],
   "source": [
    "import seaborn as sns\n",
    "import matplotlib.pyplot as plt\n",
    "plt.figure(figsize=(10,10))\n",
    "sns.heatmap(df_train.corr(),annot=True)\n",
    "plt.show()"
   ]
  },
  {
   "cell_type": "code",
   "execution_count": 15,
   "metadata": {
    "id": "yFWK7-k7kaKw"
   },
   "outputs": [],
   "source": [
    "df_train = df_train.drop('live',axis=1)\n",
    "df_train = df_train.drop('val',axis=1)\n",
    "df_train = df_train.drop('acous',axis=1)\n",
    "\n",
    "df_test = df_test.drop('live',axis=1)\n",
    "df_test = df_test.drop('val',axis=1)\n",
    "df_test = df_test.drop('acous',axis=1)"
   ]
  },
  {
   "cell_type": "code",
   "execution_count": 16,
   "metadata": {
    "colab": {
     "base_uri": "https://localhost:8080/",
     "height": 596
    },
    "id": "zJHoBBp4ks14",
    "outputId": "ecc66e42-d508-422a-d85f-17ce70c06a5a"
   },
   "outputs": [
    {
     "data": {
      "image/png": "[encoded data removed]",
      "text/plain": [
       "<Figure size 720x720 with 2 Axes>"
      ]
     },
     "metadata": {
      "needs_background": "light"
     },
     "output_type": "display_data"
    }
   ],
   "source": [
    "import seaborn as sns\n",
    "import matplotlib.pyplot as plt\n",
    "plt.figure(figsize=(10,10))\n",
    "sns.heatmap(df_train.corr(),annot=True)\n",
    "plt.show()"
   ]
  },
  {
   "cell_type": "code",
   "execution_count": 17,
   "metadata": {
    "id": "BqJgKYy9nCYS"
   },
   "outputs": [],
   "source": [
    "from sklearn.preprocessing import LabelEncoder\n",
    "le = LabelEncoder()\n",
    "df_train['top genre'] = le.fit_transform(df_train['top genre'])\n",
    "df_train['artist'] = le.fit_transform(df_train['artist'])"
   ]
  },
  {
   "cell_type": "code",
   "execution_count": 18,
   "metadata": {
    "colab": {
     "base_uri": "https://localhost:8080/",
     "height": 206
    },
    "id": "Da8DKvi2nWTO",
    "outputId": "acb2defe-2f5f-4c7c-dba2-c5e22674c1df"
   },
   "outputs": [
    {
     "data": {
      "text/html": [
       "<div>\n",
       "<style scoped>\n",
       "    .dataframe tbody tr th:only-of-type {\n",
       "        vertical-align: middle;\n",
       "    }\n",
       "\n",
       "    .dataframe tbody tr th {\n",
       "        vertical-align: top;\n",
       "    }\n",
       "\n",
       "    .dataframe thead th {\n",
       "        text-align: right;\n",
       "    }\n",
       "</style>\n",
       "<table border=\"1\" class=\"dataframe\">\n",
       "  <thead>\n",
       "    <tr style=\"text-align: right;\">\n",
       "      <th></th>\n",
       "      <th>artist</th>\n",
       "      <th>year</th>\n",
       "      <th>bpm</th>\n",
       "      <th>nrgy</th>\n",
       "      <th>dnce</th>\n",
       "      <th>dB</th>\n",
       "      <th>dur</th>\n",
       "      <th>spch</th>\n",
       "      <th>pop</th>\n",
       "      <th>top genre</th>\n",
       "    </tr>\n",
       "  </thead>\n",
       "  <tbody>\n",
       "    <tr>\n",
       "      <th>0</th>\n",
       "      <td>54</td>\n",
       "      <td>1996</td>\n",
       "      <td>107</td>\n",
       "      <td>31</td>\n",
       "      <td>45</td>\n",
       "      <td>-8</td>\n",
       "      <td>150</td>\n",
       "      <td>3</td>\n",
       "      <td>44</td>\n",
       "      <td>1</td>\n",
       "    </tr>\n",
       "    <tr>\n",
       "      <th>2</th>\n",
       "      <td>19</td>\n",
       "      <td>1979</td>\n",
       "      <td>105</td>\n",
       "      <td>36</td>\n",
       "      <td>63</td>\n",
       "      <td>-9</td>\n",
       "      <td>245</td>\n",
       "      <td>3</td>\n",
       "      <td>77</td>\n",
       "      <td>1</td>\n",
       "    </tr>\n",
       "    <tr>\n",
       "      <th>3</th>\n",
       "      <td>18</td>\n",
       "      <td>1980</td>\n",
       "      <td>170</td>\n",
       "      <td>28</td>\n",
       "      <td>47</td>\n",
       "      <td>-16</td>\n",
       "      <td>232</td>\n",
       "      <td>3</td>\n",
       "      <td>67</td>\n",
       "      <td>1</td>\n",
       "    </tr>\n",
       "    <tr>\n",
       "      <th>4</th>\n",
       "      <td>92</td>\n",
       "      <td>1973</td>\n",
       "      <td>121</td>\n",
       "      <td>47</td>\n",
       "      <td>56</td>\n",
       "      <td>-8</td>\n",
       "      <td>193</td>\n",
       "      <td>3</td>\n",
       "      <td>63</td>\n",
       "      <td>68</td>\n",
       "    </tr>\n",
       "    <tr>\n",
       "      <th>5</th>\n",
       "      <td>40</td>\n",
       "      <td>2010</td>\n",
       "      <td>110</td>\n",
       "      <td>56</td>\n",
       "      <td>71</td>\n",
       "      <td>-7</td>\n",
       "      <td>223</td>\n",
       "      <td>6</td>\n",
       "      <td>74</td>\n",
       "      <td>80</td>\n",
       "    </tr>\n",
       "  </tbody>\n",
       "</table>\n",
       "</div>"
      ],
      "text/plain": [
       "   artist  year  bpm  nrgy  dnce  dB  dur  spch  pop  top genre\n",
       "0      54  1996  107    31    45  -8  150     3   44          1\n",
       "2      19  1979  105    36    63  -9  245     3   77          1\n",
       "3      18  1980  170    28    47 -16  232     3   67          1\n",
       "4      92  1973  121    47    56  -8  193     3   63         68\n",
       "5      40  2010  110    56    71  -7  223     6   74         80"
      ]
     },
     "execution_count": 18,
     "metadata": {},
     "output_type": "execute_result"
    }
   ],
   "source": [
    "df_train.head()"
   ]
  },
  {
   "cell_type": "code",
   "execution_count": 19,
   "metadata": {
    "id": "zrSHTiZWpebO"
   },
   "outputs": [],
   "source": [
    "X = df_train.drop('top genre',axis=1)\n",
    "y = df_train['top genre']"
   ]
  },
  {
   "cell_type": "code",
   "execution_count": 20,
   "metadata": {
    "id": "o9LOsFZqqlfp"
   },
   "outputs": [],
   "source": [
    "from sklearn.model_selection import train_test_split\n",
    "X_train,X_test,y_train,y_test = train_test_split(X,y,test_size=0.1,random_state=42)"
   ]
  },
  {
   "cell_type": "code",
   "execution_count": 21,
   "metadata": {
    "id": "AbhpxLErEHpS"
   },
   "outputs": [],
   "source": [
    "from sklearn.preprocessing import StandardScaler\n",
    "\n",
    "standard_scaler = StandardScaler().fit(X_train)\n",
    "\n",
    "\n",
    "X_Strain = standard_scaler.transform(X_train)\n",
    "X_Stest = standard_scaler.transform(X_test)"
   ]
  },
  {
   "cell_type": "code",
   "execution_count": 22,
   "metadata": {
    "id": "jSPLBkQ-iEen"
   },
   "outputs": [],
   "source": [
    "from sklearn.linear_model import LogisticRegression\n",
    "from sklearn.svm import SVC\n",
    "from sklearn.ensemble import RandomForestClassifier\n",
    "from sklearn.tree import DecisionTreeClassifier\n",
    "from sklearn.ensemble import VotingClassifier\n",
    "from sklearn.ensemble import GradientBoostingClassifier"
   ]
  },
  {
   "cell_type": "code",
   "execution_count": 23,
   "metadata": {
    "id": "fS4MXqcmd8g-"
   },
   "outputs": [],
   "source": [
    "clf = GradientBoostingClassifier(n_estimators=10, learning_rate=1,max_depth=1, random_state=42)\n",
    "clf.fit(X_Strain,y_train)\n",
    "clf_pred = clf.predict(X_Stest)"
   ]
  },
  {
   "cell_type": "code",
   "execution_count": 24,
   "metadata": {
    "colab": {
     "base_uri": "https://localhost:8080/"
    },
    "id": "4pVdL7nyfDxs",
    "outputId": "263dc1d2-5d01-4f60-df0f-057376e43106"
   },
   "outputs": [
    {
     "data": {
      "text/plain": [
       "0.06818181818181818"
      ]
     },
     "execution_count": 24,
     "metadata": {},
     "output_type": "execute_result"
    }
   ],
   "source": [
    "accuracy_score(y_test,clf_pred)"
   ]
  },
  {
   "cell_type": "code",
   "execution_count": 25,
   "metadata": {
    "colab": {
     "base_uri": "https://localhost:8080/"
    },
    "id": "yTJ502vXglqV",
    "outputId": "953cfc86-5989-4593-a522-48ee209858f7"
   },
   "outputs": [
    {
     "data": {
      "text/plain": [
       "0.29545454545454547"
      ]
     },
     "execution_count": 25,
     "metadata": {},
     "output_type": "execute_result"
    }
   ],
   "source": [
    "from sklearn.naive_bayes import GaussianNB\n",
    "gnb = GaussianNB()\n",
    "gnb.fit(X_Strain,y_train)\n",
    "gnb_pred = gnb.predict(X_Stest)\n",
    "accuracy_score(y_test,gnb_pred)"
   ]
  },
  {
   "cell_type": "code",
   "execution_count": 26,
   "metadata": {
    "id": "SvmOgxGJjV3A"
   },
   "outputs": [],
   "source": [
    "#lrc = LogisticRegression(multi_class='ovr')\n",
    "svc = SVC()\n",
    "rfc = RandomForestClassifier(random_state=42,min_samples_split=5)\n",
    "dtc = DecisionTreeClassifier(random_state=42)"
   ]
  },
  {
   "cell_type": "code",
   "execution_count": 27,
   "metadata": {
    "colab": {
     "base_uri": "https://localhost:8080/"
    },
    "id": "qZCZq944n1Sv",
    "outputId": "2c6b42d5-6dfd-4348-befc-988f5629e408"
   },
   "outputs": [
    {
     "data": {
      "text/plain": [
       "VotingClassifier(estimators=[('rf',\n",
       "                              RandomForestClassifier(min_samples_split=5,\n",
       "                                                     random_state=42)),\n",
       "                             ('svc', SVC()),\n",
       "                             ('dt', DecisionTreeClassifier(random_state=42))])"
      ]
     },
     "execution_count": 27,
     "metadata": {},
     "output_type": "execute_result"
    }
   ],
   "source": [
    "voting_clf = VotingClassifier(estimators=[('rf', rfc), ('svc', svc),('dt',dtc)],voting='hard')\n",
    "voting_clf.fit(X_Strain,y_train)"
   ]
  },
  {
   "cell_type": "code",
   "execution_count": 28,
   "metadata": {
    "colab": {
     "base_uri": "https://localhost:8080/"
    },
    "id": "ssakb_Vbp95o",
    "outputId": "5dcfb9fd-2414-4210-f940-14b0cb7f79e4"
   },
   "outputs": [
    {
     "name": "stdout",
     "output_type": "stream",
     "text": [
      "RandomForestClassifier 0.45454545454545453\n",
      "SVC 0.4090909090909091\n",
      "DecisionTreeClassifier 0.20454545454545456\n",
      "VotingClassifier 0.4318181818181818\n"
     ]
    }
   ],
   "source": [
    "\n",
    "for clf in (rfc, svc,dtc, voting_clf):\n",
    "    clf.fit(X_Strain, y_train)\n",
    "    ypred = clf.predict(X_Stest)\n",
    "    print(clf.__class__.__name__, accuracy_score(y_test, ypred))"
   ]
  },
  {
   "cell_type": "code",
   "execution_count": null,
   "metadata": {
    "id": "b4_BOTqkrSx-"
   },
   "outputs": [],
   "source": []
  }
 ],
 "metadata": {
  "colab": {
   "name": "Assign-OneHot.ipynb",
   "provenance": []
  },
  "kernelspec": {
   "display_name": "Python 3 (ipykernel)",
   "language": "python",
   "name": "python3"
  },
  "language_info": {
   "codemirror_mode": {
    "name": "ipython",
    "version": 3
   },
   "file_extension": ".py",
   "mimetype": "text/x-python",
   "name": "python",
   "nbconvert_exporter": "python",
   "pygments_lexer": "ipython3",
   "version": "3.9.7"
  }
 },
 "nbformat": 4,
 "nbformat_minor": 1
}
