{
 "cells": [
  {
   "cell_type": "code",
   "execution_count": 261,
   "metadata": {},
   "outputs": [],
   "source": [
    "import numpy as np\n",
    "import pandas as pd\n",
    "import seaborn as sns\n",
    "import matplotlib.pyplot as plt\n",
    "from sklearn.preprocessing import LabelEncoder\n",
    "from sklearn.model_selection import train_test_split\n",
    "from sklearn.linear_model import LogisticRegression\n",
    "from sklearn.svm import SVC\n",
    "from sklearn.ensemble import RandomForestClassifier, VotingClassifier\n",
    "from sklearn.naive_bayes import GaussianNB\n",
    "from sklearn.preprocessing import StandardScaler\n",
    "from sklearn.metrics import accuracy_score"
   ]
  },
  {
   "cell_type": "code",
   "execution_count": 262,
   "metadata": {},
   "outputs": [],
   "source": [
    "df_train = pd.read_csv('CS98XClassificationTrain.csv')\n",
    "df_test = pd.read_csv('CS98XClassificationTest.csv')"
   ]
  },
  {
   "cell_type": "code",
   "execution_count": 263,
   "metadata": {},
   "outputs": [
    {
     "data": {
      "text/html": [
       "<div>\n",
       "<style scoped>\n",
       "    .dataframe tbody tr th:only-of-type {\n",
       "        vertical-align: middle;\n",
       "    }\n",
       "\n",
       "    .dataframe tbody tr th {\n",
       "        vertical-align: top;\n",
       "    }\n",
       "\n",
       "    .dataframe thead th {\n",
       "        text-align: right;\n",
       "    }\n",
       "</style>\n",
       "<table border=\"1\" class=\"dataframe\">\n",
       "  <thead>\n",
       "    <tr style=\"text-align: right;\">\n",
       "      <th></th>\n",
       "      <th>Id</th>\n",
       "      <th>title</th>\n",
       "      <th>artist</th>\n",
       "      <th>year</th>\n",
       "      <th>bpm</th>\n",
       "      <th>nrgy</th>\n",
       "      <th>dnce</th>\n",
       "      <th>dB</th>\n",
       "      <th>live</th>\n",
       "      <th>val</th>\n",
       "      <th>dur</th>\n",
       "      <th>acous</th>\n",
       "      <th>spch</th>\n",
       "      <th>pop</th>\n",
       "      <th>top genre</th>\n",
       "    </tr>\n",
       "  </thead>\n",
       "  <tbody>\n",
       "    <tr>\n",
       "      <th>0</th>\n",
       "      <td>1</td>\n",
       "      <td>My Happiness</td>\n",
       "      <td>Connie Francis</td>\n",
       "      <td>1996</td>\n",
       "      <td>107</td>\n",
       "      <td>31</td>\n",
       "      <td>45</td>\n",
       "      <td>-8</td>\n",
       "      <td>13</td>\n",
       "      <td>28</td>\n",
       "      <td>150</td>\n",
       "      <td>75</td>\n",
       "      <td>3</td>\n",
       "      <td>44</td>\n",
       "      <td>adult standards</td>\n",
       "    </tr>\n",
       "    <tr>\n",
       "      <th>1</th>\n",
       "      <td>2</td>\n",
       "      <td>Unchained Melody</td>\n",
       "      <td>The Teddy Bears</td>\n",
       "      <td>2011</td>\n",
       "      <td>114</td>\n",
       "      <td>44</td>\n",
       "      <td>53</td>\n",
       "      <td>-8</td>\n",
       "      <td>13</td>\n",
       "      <td>47</td>\n",
       "      <td>139</td>\n",
       "      <td>49</td>\n",
       "      <td>3</td>\n",
       "      <td>37</td>\n",
       "      <td>NaN</td>\n",
       "    </tr>\n",
       "    <tr>\n",
       "      <th>2</th>\n",
       "      <td>3</td>\n",
       "      <td>How Deep Is Your Love</td>\n",
       "      <td>Bee Gees</td>\n",
       "      <td>1979</td>\n",
       "      <td>105</td>\n",
       "      <td>36</td>\n",
       "      <td>63</td>\n",
       "      <td>-9</td>\n",
       "      <td>13</td>\n",
       "      <td>67</td>\n",
       "      <td>245</td>\n",
       "      <td>11</td>\n",
       "      <td>3</td>\n",
       "      <td>77</td>\n",
       "      <td>adult standards</td>\n",
       "    </tr>\n",
       "    <tr>\n",
       "      <th>3</th>\n",
       "      <td>4</td>\n",
       "      <td>Woman in Love</td>\n",
       "      <td>Barbra Streisand</td>\n",
       "      <td>1980</td>\n",
       "      <td>170</td>\n",
       "      <td>28</td>\n",
       "      <td>47</td>\n",
       "      <td>-16</td>\n",
       "      <td>13</td>\n",
       "      <td>33</td>\n",
       "      <td>232</td>\n",
       "      <td>25</td>\n",
       "      <td>3</td>\n",
       "      <td>67</td>\n",
       "      <td>adult standards</td>\n",
       "    </tr>\n",
       "    <tr>\n",
       "      <th>4</th>\n",
       "      <td>5</td>\n",
       "      <td>Goodbye Yellow Brick Road - Remastered 2014</td>\n",
       "      <td>Elton John</td>\n",
       "      <td>1973</td>\n",
       "      <td>121</td>\n",
       "      <td>47</td>\n",
       "      <td>56</td>\n",
       "      <td>-8</td>\n",
       "      <td>15</td>\n",
       "      <td>40</td>\n",
       "      <td>193</td>\n",
       "      <td>45</td>\n",
       "      <td>3</td>\n",
       "      <td>63</td>\n",
       "      <td>glam rock</td>\n",
       "    </tr>\n",
       "  </tbody>\n",
       "</table>\n",
       "</div>"
      ],
      "text/plain": [
       "   Id                                        title            artist  year  \\\n",
       "0   1                                 My Happiness    Connie Francis  1996   \n",
       "1   2                             Unchained Melody   The Teddy Bears  2011   \n",
       "2   3                        How Deep Is Your Love          Bee Gees  1979   \n",
       "3   4                                Woman in Love  Barbra Streisand  1980   \n",
       "4   5  Goodbye Yellow Brick Road - Remastered 2014        Elton John  1973   \n",
       "\n",
       "   bpm  nrgy  dnce  dB  live  val  dur  acous  spch  pop        top genre  \n",
       "0  107    31    45  -8    13   28  150     75     3   44  adult standards  \n",
       "1  114    44    53  -8    13   47  139     49     3   37              NaN  \n",
       "2  105    36    63  -9    13   67  245     11     3   77  adult standards  \n",
       "3  170    28    47 -16    13   33  232     25     3   67  adult standards  \n",
       "4  121    47    56  -8    15   40  193     45     3   63        glam rock  "
      ]
     },
     "execution_count": 263,
     "metadata": {},
     "output_type": "execute_result"
    }
   ],
   "source": [
    "df_train.head()"
   ]
  },
  {
   "cell_type": "code",
   "execution_count": 264,
   "metadata": {},
   "outputs": [
    {
     "data": {
      "text/html": [
       "<div>\n",
       "<style scoped>\n",
       "    .dataframe tbody tr th:only-of-type {\n",
       "        vertical-align: middle;\n",
       "    }\n",
       "\n",
       "    .dataframe tbody tr th {\n",
       "        vertical-align: top;\n",
       "    }\n",
       "\n",
       "    .dataframe thead th {\n",
       "        text-align: right;\n",
       "    }\n",
       "</style>\n",
       "<table border=\"1\" class=\"dataframe\">\n",
       "  <thead>\n",
       "    <tr style=\"text-align: right;\">\n",
       "      <th></th>\n",
       "      <th>Id</th>\n",
       "      <th>title</th>\n",
       "      <th>artist</th>\n",
       "      <th>year</th>\n",
       "      <th>bpm</th>\n",
       "      <th>nrgy</th>\n",
       "      <th>dnce</th>\n",
       "      <th>dB</th>\n",
       "      <th>live</th>\n",
       "      <th>val</th>\n",
       "      <th>dur</th>\n",
       "      <th>acous</th>\n",
       "      <th>spch</th>\n",
       "      <th>pop</th>\n",
       "    </tr>\n",
       "  </thead>\n",
       "  <tbody>\n",
       "    <tr>\n",
       "      <th>0</th>\n",
       "      <td>454</td>\n",
       "      <td>Pump It</td>\n",
       "      <td>The Black Eyed Peas</td>\n",
       "      <td>2005</td>\n",
       "      <td>154</td>\n",
       "      <td>93</td>\n",
       "      <td>65</td>\n",
       "      <td>-3</td>\n",
       "      <td>75</td>\n",
       "      <td>74</td>\n",
       "      <td>213</td>\n",
       "      <td>1</td>\n",
       "      <td>18</td>\n",
       "      <td>72</td>\n",
       "    </tr>\n",
       "    <tr>\n",
       "      <th>1</th>\n",
       "      <td>455</td>\n",
       "      <td>Circle of Life - From \"The Lion King\"/Soundtra...</td>\n",
       "      <td>Elton John</td>\n",
       "      <td>1994</td>\n",
       "      <td>161</td>\n",
       "      <td>39</td>\n",
       "      <td>30</td>\n",
       "      <td>-15</td>\n",
       "      <td>11</td>\n",
       "      <td>14</td>\n",
       "      <td>292</td>\n",
       "      <td>26</td>\n",
       "      <td>3</td>\n",
       "      <td>59</td>\n",
       "    </tr>\n",
       "    <tr>\n",
       "      <th>2</th>\n",
       "      <td>456</td>\n",
       "      <td>We Are The Champions - Remastered 2011</td>\n",
       "      <td>Queen</td>\n",
       "      <td>1977</td>\n",
       "      <td>64</td>\n",
       "      <td>46</td>\n",
       "      <td>27</td>\n",
       "      <td>-7</td>\n",
       "      <td>12</td>\n",
       "      <td>18</td>\n",
       "      <td>179</td>\n",
       "      <td>38</td>\n",
       "      <td>3</td>\n",
       "      <td>76</td>\n",
       "    </tr>\n",
       "    <tr>\n",
       "      <th>3</th>\n",
       "      <td>457</td>\n",
       "      <td>Insomnia - Radio Edit</td>\n",
       "      <td>Faithless</td>\n",
       "      <td>2010</td>\n",
       "      <td>127</td>\n",
       "      <td>92</td>\n",
       "      <td>71</td>\n",
       "      <td>-9</td>\n",
       "      <td>37</td>\n",
       "      <td>53</td>\n",
       "      <td>216</td>\n",
       "      <td>6</td>\n",
       "      <td>4</td>\n",
       "      <td>50</td>\n",
       "    </tr>\n",
       "    <tr>\n",
       "      <th>4</th>\n",
       "      <td>458</td>\n",
       "      <td>This Eve of Parting</td>\n",
       "      <td>John Hartford</td>\n",
       "      <td>2018</td>\n",
       "      <td>115</td>\n",
       "      <td>46</td>\n",
       "      <td>56</td>\n",
       "      <td>-12</td>\n",
       "      <td>21</td>\n",
       "      <td>34</td>\n",
       "      <td>153</td>\n",
       "      <td>18</td>\n",
       "      <td>3</td>\n",
       "      <td>44</td>\n",
       "    </tr>\n",
       "  </tbody>\n",
       "</table>\n",
       "</div>"
      ],
      "text/plain": [
       "    Id                                              title  \\\n",
       "0  454                                            Pump It   \n",
       "1  455  Circle of Life - From \"The Lion King\"/Soundtra...   \n",
       "2  456             We Are The Champions - Remastered 2011   \n",
       "3  457                              Insomnia - Radio Edit   \n",
       "4  458                                This Eve of Parting   \n",
       "\n",
       "                artist  year  bpm  nrgy  dnce  dB  live  val  dur  acous  \\\n",
       "0  The Black Eyed Peas  2005  154    93    65  -3    75   74  213      1   \n",
       "1           Elton John  1994  161    39    30 -15    11   14  292     26   \n",
       "2                Queen  1977   64    46    27  -7    12   18  179     38   \n",
       "3            Faithless  2010  127    92    71  -9    37   53  216      6   \n",
       "4        John Hartford  2018  115    46    56 -12    21   34  153     18   \n",
       "\n",
       "   spch  pop  \n",
       "0    18   72  \n",
       "1     3   59  \n",
       "2     3   76  \n",
       "3     4   50  \n",
       "4     3   44  "
      ]
     },
     "execution_count": 264,
     "metadata": {},
     "output_type": "execute_result"
    }
   ],
   "source": [
    "df_test.head()"
   ]
  },
  {
   "cell_type": "code",
   "execution_count": 265,
   "metadata": {},
   "outputs": [
    {
     "name": "stdout",
     "output_type": "stream",
     "text": [
      "<class 'pandas.core.frame.DataFrame'>\n",
      "RangeIndex: 453 entries, 0 to 452\n",
      "Data columns (total 15 columns):\n",
      " #   Column     Non-Null Count  Dtype \n",
      "---  ------     --------------  ----- \n",
      " 0   Id         453 non-null    int64 \n",
      " 1   title      453 non-null    object\n",
      " 2   artist     453 non-null    object\n",
      " 3   year       453 non-null    int64 \n",
      " 4   bpm        453 non-null    int64 \n",
      " 5   nrgy       453 non-null    int64 \n",
      " 6   dnce       453 non-null    int64 \n",
      " 7   dB         453 non-null    int64 \n",
      " 8   live       453 non-null    int64 \n",
      " 9   val        453 non-null    int64 \n",
      " 10  dur        453 non-null    int64 \n",
      " 11  acous      453 non-null    int64 \n",
      " 12  spch       453 non-null    int64 \n",
      " 13  pop        453 non-null    int64 \n",
      " 14  top genre  438 non-null    object\n",
      "dtypes: int64(12), object(3)\n",
      "memory usage: 53.2+ KB\n"
     ]
    }
   ],
   "source": [
    "df_train.info()"
   ]
  },
  {
   "cell_type": "code",
   "execution_count": 266,
   "metadata": {},
   "outputs": [
    {
     "name": "stdout",
     "output_type": "stream",
     "text": [
      "<class 'pandas.core.frame.DataFrame'>\n",
      "RangeIndex: 113 entries, 0 to 112\n",
      "Data columns (total 14 columns):\n",
      " #   Column  Non-Null Count  Dtype \n",
      "---  ------  --------------  ----- \n",
      " 0   Id      113 non-null    int64 \n",
      " 1   title   113 non-null    object\n",
      " 2   artist  113 non-null    object\n",
      " 3   year    113 non-null    int64 \n",
      " 4   bpm     113 non-null    int64 \n",
      " 5   nrgy    113 non-null    int64 \n",
      " 6   dnce    113 non-null    int64 \n",
      " 7   dB      113 non-null    int64 \n",
      " 8   live    113 non-null    int64 \n",
      " 9   val     113 non-null    int64 \n",
      " 10  dur     113 non-null    int64 \n",
      " 11  acous   113 non-null    int64 \n",
      " 12  spch    113 non-null    int64 \n",
      " 13  pop     113 non-null    int64 \n",
      "dtypes: int64(12), object(2)\n",
      "memory usage: 12.5+ KB\n"
     ]
    }
   ],
   "source": [
    "df_test.info()"
   ]
  },
  {
   "cell_type": "code",
   "execution_count": 267,
   "metadata": {},
   "outputs": [
    {
     "data": {
      "text/plain": [
       "Id            0\n",
       "title         0\n",
       "artist        0\n",
       "year          0\n",
       "bpm           0\n",
       "nrgy          0\n",
       "dnce          0\n",
       "dB            0\n",
       "live          0\n",
       "val           0\n",
       "dur           0\n",
       "acous         0\n",
       "spch          0\n",
       "pop           0\n",
       "top genre    15\n",
       "dtype: int64"
      ]
     },
     "execution_count": 267,
     "metadata": {},
     "output_type": "execute_result"
    }
   ],
   "source": [
    "df_train.isna().sum()"
   ]
  },
  {
   "cell_type": "code",
   "execution_count": 268,
   "metadata": {},
   "outputs": [
    {
     "data": {
      "text/plain": [
       "Id        0\n",
       "title     0\n",
       "artist    0\n",
       "year      0\n",
       "bpm       0\n",
       "nrgy      0\n",
       "dnce      0\n",
       "dB        0\n",
       "live      0\n",
       "val       0\n",
       "dur       0\n",
       "acous     0\n",
       "spch      0\n",
       "pop       0\n",
       "dtype: int64"
      ]
     },
     "execution_count": 268,
     "metadata": {},
     "output_type": "execute_result"
    }
   ],
   "source": [
    "df_test.isna().sum()"
   ]
  },
  {
   "cell_type": "code",
   "execution_count": 269,
   "metadata": {},
   "outputs": [],
   "source": [
    "df_train.fillna(df_train['top genre'].mode()[0],inplace=True)"
   ]
  },
  {
   "cell_type": "code",
   "execution_count": 270,
   "metadata": {},
   "outputs": [
    {
     "data": {
      "text/plain": [
       "Id           0\n",
       "title        0\n",
       "artist       0\n",
       "year         0\n",
       "bpm          0\n",
       "nrgy         0\n",
       "dnce         0\n",
       "dB           0\n",
       "live         0\n",
       "val          0\n",
       "dur          0\n",
       "acous        0\n",
       "spch         0\n",
       "pop          0\n",
       "top genre    0\n",
       "dtype: int64"
      ]
     },
     "execution_count": 270,
     "metadata": {},
     "output_type": "execute_result"
    }
   ],
   "source": [
    "df_train.isna().sum()"
   ]
  },
  {
   "cell_type": "code",
   "execution_count": 271,
   "metadata": {},
   "outputs": [
    {
     "data": {
      "image/png": "[encoded data removed]",
      "text/plain": [
       "<Figure size 1440x720 with 1 Axes>"
      ]
     },
     "metadata": {
      "needs_background": "light"
     },
     "output_type": "display_data"
    }
   ],
   "source": [
    "plt.figure(figsize=(20,10))\n",
    "df_train.boxplot()\n",
    "plt.show()"
   ]
  },
  {
   "cell_type": "code",
   "execution_count": 272,
   "metadata": {},
   "outputs": [],
   "source": [
    "def remove_outliers(col):\n",
    "    sorted(col)\n",
    "    Q1,Q3 = np.percentile(col, [25,75])\n",
    "    IQR = Q3 - Q1\n",
    "    lower_bound =  Q1 - 1.5 * IQR\n",
    "    upper_bound = Q3 + 1.5 *IQR\n",
    "    return lower_bound, upper_bound"
   ]
  },
  {
   "cell_type": "code",
   "execution_count": 273,
   "metadata": {},
   "outputs": [],
   "source": [
    "des_columns = [\"bpm\",'dnce',\"dB\",\"dur\",\"spch\",\"pop\",\"live\"]"
   ]
  },
  {
   "cell_type": "code",
   "execution_count": 274,
   "metadata": {},
   "outputs": [],
   "source": [
    "for column in des_columns:\n",
    "    lr,ur = remove_outliers(df_train[column])\n",
    "    df_train[column] =np.where(df_train[column]>ur, ur, df_train[column])\n",
    "    df_train[column] =np.where(df_train[column]<lr, lr, df_train[column])"
   ]
  },
  {
   "cell_type": "code",
   "execution_count": 275,
   "metadata": {},
   "outputs": [
    {
     "data": {
      "image/png": "[encoded data removed]",
      "text/plain": [
       "<Figure size 1440x720 with 1 Axes>"
      ]
     },
     "metadata": {
      "needs_background": "light"
     },
     "output_type": "display_data"
    }
   ],
   "source": [
    "plt.figure(figsize=(20,10))\n",
    "df_train.boxplot()\n",
    "plt.show()"
   ]
  },
  {
   "cell_type": "code",
   "execution_count": 276,
   "metadata": {},
   "outputs": [
    {
     "data": {
      "image/png": "[encoded data removed]",
      "text/plain": [
       "<Figure size 1440x720 with 1 Axes>"
      ]
     },
     "metadata": {
      "needs_background": "light"
     },
     "output_type": "display_data"
    }
   ],
   "source": [
    "plt.figure(figsize=(20,10))\n",
    "df_test.boxplot()\n",
    "plt.show()"
   ]
  },
  {
   "cell_type": "code",
   "execution_count": 277,
   "metadata": {},
   "outputs": [],
   "source": [
    "for column in des_columns:\n",
    "    lr,ur = remove_outliers(df_test[column])\n",
    "    df_test[column] =np.where(df_test[column]>ur, ur, df_test[column])\n",
    "    df_test[column] =np.where(df_test[column]<lr, lr, df_test[column])"
   ]
  },
  {
   "cell_type": "code",
   "execution_count": 278,
   "metadata": {},
   "outputs": [
    {
     "data": {
      "image/png": "[encoded data removed]",
      "text/plain": [
       "<Figure size 1440x720 with 1 Axes>"
      ]
     },
     "metadata": {
      "needs_background": "light"
     },
     "output_type": "display_data"
    }
   ],
   "source": [
    "plt.figure(figsize=(20,10))\n",
    "df_test.boxplot()\n",
    "plt.show()"
   ]
  },
  {
   "cell_type": "code",
   "execution_count": 279,
   "metadata": {},
   "outputs": [],
   "source": [
    "df_train = df_train.drop('Id',axis=1)\n",
    "df_train = df_train.drop('title',axis=1)\n",
    "df_train = df_train.drop('year',axis=1)\n",
    "\n",
    "df_test = df_test.drop('Id',axis=1)\n",
    "df_test = df_test.drop('title',axis=1)\n",
    "df_test = df_test.drop('year',axis=1)"
   ]
  },
  {
   "cell_type": "code",
   "execution_count": 280,
   "metadata": {},
   "outputs": [
    {
     "data": {
      "text/html": [
       "<div>\n",
       "<style scoped>\n",
       "    .dataframe tbody tr th:only-of-type {\n",
       "        vertical-align: middle;\n",
       "    }\n",
       "\n",
       "    .dataframe tbody tr th {\n",
       "        vertical-align: top;\n",
       "    }\n",
       "\n",
       "    .dataframe thead th {\n",
       "        text-align: right;\n",
       "    }\n",
       "</style>\n",
       "<table border=\"1\" class=\"dataframe\">\n",
       "  <thead>\n",
       "    <tr style=\"text-align: right;\">\n",
       "      <th></th>\n",
       "      <th>artist</th>\n",
       "      <th>bpm</th>\n",
       "      <th>nrgy</th>\n",
       "      <th>dnce</th>\n",
       "      <th>dB</th>\n",
       "      <th>live</th>\n",
       "      <th>val</th>\n",
       "      <th>dur</th>\n",
       "      <th>acous</th>\n",
       "      <th>spch</th>\n",
       "      <th>pop</th>\n",
       "      <th>top genre</th>\n",
       "    </tr>\n",
       "  </thead>\n",
       "  <tbody>\n",
       "    <tr>\n",
       "      <th>0</th>\n",
       "      <td>Connie Francis</td>\n",
       "      <td>107.0</td>\n",
       "      <td>31</td>\n",
       "      <td>45.0</td>\n",
       "      <td>-8.0</td>\n",
       "      <td>13.0</td>\n",
       "      <td>28</td>\n",
       "      <td>150.0</td>\n",
       "      <td>75</td>\n",
       "      <td>3.0</td>\n",
       "      <td>44.0</td>\n",
       "      <td>adult standards</td>\n",
       "    </tr>\n",
       "    <tr>\n",
       "      <th>1</th>\n",
       "      <td>The Teddy Bears</td>\n",
       "      <td>114.0</td>\n",
       "      <td>44</td>\n",
       "      <td>53.0</td>\n",
       "      <td>-8.0</td>\n",
       "      <td>13.0</td>\n",
       "      <td>47</td>\n",
       "      <td>139.0</td>\n",
       "      <td>49</td>\n",
       "      <td>3.0</td>\n",
       "      <td>37.0</td>\n",
       "      <td>adult standards</td>\n",
       "    </tr>\n",
       "    <tr>\n",
       "      <th>2</th>\n",
       "      <td>Bee Gees</td>\n",
       "      <td>105.0</td>\n",
       "      <td>36</td>\n",
       "      <td>63.0</td>\n",
       "      <td>-9.0</td>\n",
       "      <td>13.0</td>\n",
       "      <td>67</td>\n",
       "      <td>245.0</td>\n",
       "      <td>11</td>\n",
       "      <td>3.0</td>\n",
       "      <td>77.0</td>\n",
       "      <td>adult standards</td>\n",
       "    </tr>\n",
       "    <tr>\n",
       "      <th>3</th>\n",
       "      <td>Barbra Streisand</td>\n",
       "      <td>170.0</td>\n",
       "      <td>28</td>\n",
       "      <td>47.0</td>\n",
       "      <td>-16.0</td>\n",
       "      <td>13.0</td>\n",
       "      <td>33</td>\n",
       "      <td>232.0</td>\n",
       "      <td>25</td>\n",
       "      <td>3.0</td>\n",
       "      <td>67.0</td>\n",
       "      <td>adult standards</td>\n",
       "    </tr>\n",
       "    <tr>\n",
       "      <th>4</th>\n",
       "      <td>Elton John</td>\n",
       "      <td>121.0</td>\n",
       "      <td>47</td>\n",
       "      <td>56.0</td>\n",
       "      <td>-8.0</td>\n",
       "      <td>15.0</td>\n",
       "      <td>40</td>\n",
       "      <td>193.0</td>\n",
       "      <td>45</td>\n",
       "      <td>3.0</td>\n",
       "      <td>63.0</td>\n",
       "      <td>glam rock</td>\n",
       "    </tr>\n",
       "  </tbody>\n",
       "</table>\n",
       "</div>"
      ],
      "text/plain": [
       "             artist    bpm  nrgy  dnce    dB  live  val    dur  acous  spch  \\\n",
       "0    Connie Francis  107.0    31  45.0  -8.0  13.0   28  150.0     75   3.0   \n",
       "1   The Teddy Bears  114.0    44  53.0  -8.0  13.0   47  139.0     49   3.0   \n",
       "2          Bee Gees  105.0    36  63.0  -9.0  13.0   67  245.0     11   3.0   \n",
       "3  Barbra Streisand  170.0    28  47.0 -16.0  13.0   33  232.0     25   3.0   \n",
       "4        Elton John  121.0    47  56.0  -8.0  15.0   40  193.0     45   3.0   \n",
       "\n",
       "    pop        top genre  \n",
       "0  44.0  adult standards  \n",
       "1  37.0  adult standards  \n",
       "2  77.0  adult standards  \n",
       "3  67.0  adult standards  \n",
       "4  63.0        glam rock  "
      ]
     },
     "execution_count": 280,
     "metadata": {},
     "output_type": "execute_result"
    }
   ],
   "source": [
    "df_train.head()"
   ]
  },
  {
   "cell_type": "code",
   "execution_count": 281,
   "metadata": {},
   "outputs": [
    {
     "data": {
      "text/html": [
       "<div>\n",
       "<style scoped>\n",
       "    .dataframe tbody tr th:only-of-type {\n",
       "        vertical-align: middle;\n",
       "    }\n",
       "\n",
       "    .dataframe tbody tr th {\n",
       "        vertical-align: top;\n",
       "    }\n",
       "\n",
       "    .dataframe thead th {\n",
       "        text-align: right;\n",
       "    }\n",
       "</style>\n",
       "<table border=\"1\" class=\"dataframe\">\n",
       "  <thead>\n",
       "    <tr style=\"text-align: right;\">\n",
       "      <th></th>\n",
       "      <th>artist</th>\n",
       "      <th>bpm</th>\n",
       "      <th>nrgy</th>\n",
       "      <th>dnce</th>\n",
       "      <th>dB</th>\n",
       "      <th>live</th>\n",
       "      <th>val</th>\n",
       "      <th>dur</th>\n",
       "      <th>acous</th>\n",
       "      <th>spch</th>\n",
       "      <th>pop</th>\n",
       "    </tr>\n",
       "  </thead>\n",
       "  <tbody>\n",
       "    <tr>\n",
       "      <th>0</th>\n",
       "      <td>The Black Eyed Peas</td>\n",
       "      <td>154.0</td>\n",
       "      <td>93</td>\n",
       "      <td>65.0</td>\n",
       "      <td>-3.0</td>\n",
       "      <td>45.0</td>\n",
       "      <td>74</td>\n",
       "      <td>213.0</td>\n",
       "      <td>1</td>\n",
       "      <td>10.5</td>\n",
       "      <td>72.0</td>\n",
       "    </tr>\n",
       "    <tr>\n",
       "      <th>1</th>\n",
       "      <td>Elton John</td>\n",
       "      <td>161.0</td>\n",
       "      <td>39</td>\n",
       "      <td>30.0</td>\n",
       "      <td>-15.0</td>\n",
       "      <td>11.0</td>\n",
       "      <td>14</td>\n",
       "      <td>292.0</td>\n",
       "      <td>26</td>\n",
       "      <td>3.0</td>\n",
       "      <td>59.0</td>\n",
       "    </tr>\n",
       "    <tr>\n",
       "      <th>2</th>\n",
       "      <td>Queen</td>\n",
       "      <td>64.0</td>\n",
       "      <td>46</td>\n",
       "      <td>27.0</td>\n",
       "      <td>-7.0</td>\n",
       "      <td>12.0</td>\n",
       "      <td>18</td>\n",
       "      <td>179.0</td>\n",
       "      <td>38</td>\n",
       "      <td>3.0</td>\n",
       "      <td>76.0</td>\n",
       "    </tr>\n",
       "    <tr>\n",
       "      <th>3</th>\n",
       "      <td>Faithless</td>\n",
       "      <td>127.0</td>\n",
       "      <td>92</td>\n",
       "      <td>71.0</td>\n",
       "      <td>-9.0</td>\n",
       "      <td>37.0</td>\n",
       "      <td>53</td>\n",
       "      <td>216.0</td>\n",
       "      <td>6</td>\n",
       "      <td>4.0</td>\n",
       "      <td>50.0</td>\n",
       "    </tr>\n",
       "    <tr>\n",
       "      <th>4</th>\n",
       "      <td>John Hartford</td>\n",
       "      <td>115.0</td>\n",
       "      <td>46</td>\n",
       "      <td>56.0</td>\n",
       "      <td>-12.0</td>\n",
       "      <td>21.0</td>\n",
       "      <td>34</td>\n",
       "      <td>153.0</td>\n",
       "      <td>18</td>\n",
       "      <td>3.0</td>\n",
       "      <td>44.0</td>\n",
       "    </tr>\n",
       "  </tbody>\n",
       "</table>\n",
       "</div>"
      ],
      "text/plain": [
       "                artist    bpm  nrgy  dnce    dB  live  val    dur  acous  \\\n",
       "0  The Black Eyed Peas  154.0    93  65.0  -3.0  45.0   74  213.0      1   \n",
       "1           Elton John  161.0    39  30.0 -15.0  11.0   14  292.0     26   \n",
       "2                Queen   64.0    46  27.0  -7.0  12.0   18  179.0     38   \n",
       "3            Faithless  127.0    92  71.0  -9.0  37.0   53  216.0      6   \n",
       "4        John Hartford  115.0    46  56.0 -12.0  21.0   34  153.0     18   \n",
       "\n",
       "   spch   pop  \n",
       "0  10.5  72.0  \n",
       "1   3.0  59.0  \n",
       "2   3.0  76.0  \n",
       "3   4.0  50.0  \n",
       "4   3.0  44.0  "
      ]
     },
     "execution_count": 281,
     "metadata": {},
     "output_type": "execute_result"
    }
   ],
   "source": [
    "df_test.head()"
   ]
  },
  {
   "cell_type": "code",
   "execution_count": 282,
   "metadata": {},
   "outputs": [
    {
     "data": {
      "text/html": [
       "<div>\n",
       "<style scoped>\n",
       "    .dataframe tbody tr th:only-of-type {\n",
       "        vertical-align: middle;\n",
       "    }\n",
       "\n",
       "    .dataframe tbody tr th {\n",
       "        vertical-align: top;\n",
       "    }\n",
       "\n",
       "    .dataframe thead th {\n",
       "        text-align: right;\n",
       "    }\n",
       "</style>\n",
       "<table border=\"1\" class=\"dataframe\">\n",
       "  <thead>\n",
       "    <tr style=\"text-align: right;\">\n",
       "      <th></th>\n",
       "      <th>artist</th>\n",
       "      <th>bpm</th>\n",
       "      <th>nrgy</th>\n",
       "      <th>dnce</th>\n",
       "      <th>dB</th>\n",
       "      <th>live</th>\n",
       "      <th>val</th>\n",
       "      <th>dur</th>\n",
       "      <th>acous</th>\n",
       "      <th>spch</th>\n",
       "      <th>pop</th>\n",
       "      <th>top genre</th>\n",
       "    </tr>\n",
       "  </thead>\n",
       "  <tbody>\n",
       "    <tr>\n",
       "      <th>0</th>\n",
       "      <td>Connie Francis</td>\n",
       "      <td>107.0</td>\n",
       "      <td>31</td>\n",
       "      <td>45.0</td>\n",
       "      <td>-8.0</td>\n",
       "      <td>13.0</td>\n",
       "      <td>28</td>\n",
       "      <td>150.0</td>\n",
       "      <td>75</td>\n",
       "      <td>3.0</td>\n",
       "      <td>44.0</td>\n",
       "      <td>adult standards</td>\n",
       "    </tr>\n",
       "    <tr>\n",
       "      <th>1</th>\n",
       "      <td>The Teddy Bears</td>\n",
       "      <td>114.0</td>\n",
       "      <td>44</td>\n",
       "      <td>53.0</td>\n",
       "      <td>-8.0</td>\n",
       "      <td>13.0</td>\n",
       "      <td>47</td>\n",
       "      <td>139.0</td>\n",
       "      <td>49</td>\n",
       "      <td>3.0</td>\n",
       "      <td>37.0</td>\n",
       "      <td>adult standards</td>\n",
       "    </tr>\n",
       "    <tr>\n",
       "      <th>2</th>\n",
       "      <td>Bee Gees</td>\n",
       "      <td>105.0</td>\n",
       "      <td>36</td>\n",
       "      <td>63.0</td>\n",
       "      <td>-9.0</td>\n",
       "      <td>13.0</td>\n",
       "      <td>67</td>\n",
       "      <td>245.0</td>\n",
       "      <td>11</td>\n",
       "      <td>3.0</td>\n",
       "      <td>77.0</td>\n",
       "      <td>adult standards</td>\n",
       "    </tr>\n",
       "    <tr>\n",
       "      <th>3</th>\n",
       "      <td>Barbra Streisand</td>\n",
       "      <td>170.0</td>\n",
       "      <td>28</td>\n",
       "      <td>47.0</td>\n",
       "      <td>-16.0</td>\n",
       "      <td>13.0</td>\n",
       "      <td>33</td>\n",
       "      <td>232.0</td>\n",
       "      <td>25</td>\n",
       "      <td>3.0</td>\n",
       "      <td>67.0</td>\n",
       "      <td>adult standards</td>\n",
       "    </tr>\n",
       "    <tr>\n",
       "      <th>4</th>\n",
       "      <td>Elton John</td>\n",
       "      <td>121.0</td>\n",
       "      <td>47</td>\n",
       "      <td>56.0</td>\n",
       "      <td>-8.0</td>\n",
       "      <td>15.0</td>\n",
       "      <td>40</td>\n",
       "      <td>193.0</td>\n",
       "      <td>45</td>\n",
       "      <td>3.0</td>\n",
       "      <td>63.0</td>\n",
       "      <td>glam rock</td>\n",
       "    </tr>\n",
       "  </tbody>\n",
       "</table>\n",
       "</div>"
      ],
      "text/plain": [
       "             artist    bpm  nrgy  dnce    dB  live  val    dur  acous  spch  \\\n",
       "0    Connie Francis  107.0    31  45.0  -8.0  13.0   28  150.0     75   3.0   \n",
       "1   The Teddy Bears  114.0    44  53.0  -8.0  13.0   47  139.0     49   3.0   \n",
       "2          Bee Gees  105.0    36  63.0  -9.0  13.0   67  245.0     11   3.0   \n",
       "3  Barbra Streisand  170.0    28  47.0 -16.0  13.0   33  232.0     25   3.0   \n",
       "4        Elton John  121.0    47  56.0  -8.0  15.0   40  193.0     45   3.0   \n",
       "\n",
       "    pop        top genre  \n",
       "0  44.0  adult standards  \n",
       "1  37.0  adult standards  \n",
       "2  77.0  adult standards  \n",
       "3  67.0  adult standards  \n",
       "4  63.0        glam rock  "
      ]
     },
     "execution_count": 282,
     "metadata": {},
     "output_type": "execute_result"
    }
   ],
   "source": [
    "df_train.head()"
   ]
  },
  {
   "cell_type": "code",
   "execution_count": 283,
   "metadata": {},
   "outputs": [
    {
     "data": {
      "text/html": [
       "<div>\n",
       "<style scoped>\n",
       "    .dataframe tbody tr th:only-of-type {\n",
       "        vertical-align: middle;\n",
       "    }\n",
       "\n",
       "    .dataframe tbody tr th {\n",
       "        vertical-align: top;\n",
       "    }\n",
       "\n",
       "    .dataframe thead th {\n",
       "        text-align: right;\n",
       "    }\n",
       "</style>\n",
       "<table border=\"1\" class=\"dataframe\">\n",
       "  <thead>\n",
       "    <tr style=\"text-align: right;\">\n",
       "      <th></th>\n",
       "      <th>artist</th>\n",
       "      <th>bpm</th>\n",
       "      <th>nrgy</th>\n",
       "      <th>dnce</th>\n",
       "      <th>dB</th>\n",
       "      <th>live</th>\n",
       "      <th>val</th>\n",
       "      <th>dur</th>\n",
       "      <th>acous</th>\n",
       "      <th>spch</th>\n",
       "      <th>pop</th>\n",
       "    </tr>\n",
       "  </thead>\n",
       "  <tbody>\n",
       "    <tr>\n",
       "      <th>0</th>\n",
       "      <td>The Black Eyed Peas</td>\n",
       "      <td>154.0</td>\n",
       "      <td>93</td>\n",
       "      <td>65.0</td>\n",
       "      <td>-3.0</td>\n",
       "      <td>45.0</td>\n",
       "      <td>74</td>\n",
       "      <td>213.0</td>\n",
       "      <td>1</td>\n",
       "      <td>10.5</td>\n",
       "      <td>72.0</td>\n",
       "    </tr>\n",
       "    <tr>\n",
       "      <th>1</th>\n",
       "      <td>Elton John</td>\n",
       "      <td>161.0</td>\n",
       "      <td>39</td>\n",
       "      <td>30.0</td>\n",
       "      <td>-15.0</td>\n",
       "      <td>11.0</td>\n",
       "      <td>14</td>\n",
       "      <td>292.0</td>\n",
       "      <td>26</td>\n",
       "      <td>3.0</td>\n",
       "      <td>59.0</td>\n",
       "    </tr>\n",
       "    <tr>\n",
       "      <th>2</th>\n",
       "      <td>Queen</td>\n",
       "      <td>64.0</td>\n",
       "      <td>46</td>\n",
       "      <td>27.0</td>\n",
       "      <td>-7.0</td>\n",
       "      <td>12.0</td>\n",
       "      <td>18</td>\n",
       "      <td>179.0</td>\n",
       "      <td>38</td>\n",
       "      <td>3.0</td>\n",
       "      <td>76.0</td>\n",
       "    </tr>\n",
       "    <tr>\n",
       "      <th>3</th>\n",
       "      <td>Faithless</td>\n",
       "      <td>127.0</td>\n",
       "      <td>92</td>\n",
       "      <td>71.0</td>\n",
       "      <td>-9.0</td>\n",
       "      <td>37.0</td>\n",
       "      <td>53</td>\n",
       "      <td>216.0</td>\n",
       "      <td>6</td>\n",
       "      <td>4.0</td>\n",
       "      <td>50.0</td>\n",
       "    </tr>\n",
       "    <tr>\n",
       "      <th>4</th>\n",
       "      <td>John Hartford</td>\n",
       "      <td>115.0</td>\n",
       "      <td>46</td>\n",
       "      <td>56.0</td>\n",
       "      <td>-12.0</td>\n",
       "      <td>21.0</td>\n",
       "      <td>34</td>\n",
       "      <td>153.0</td>\n",
       "      <td>18</td>\n",
       "      <td>3.0</td>\n",
       "      <td>44.0</td>\n",
       "    </tr>\n",
       "  </tbody>\n",
       "</table>\n",
       "</div>"
      ],
      "text/plain": [
       "                artist    bpm  nrgy  dnce    dB  live  val    dur  acous  \\\n",
       "0  The Black Eyed Peas  154.0    93  65.0  -3.0  45.0   74  213.0      1   \n",
       "1           Elton John  161.0    39  30.0 -15.0  11.0   14  292.0     26   \n",
       "2                Queen   64.0    46  27.0  -7.0  12.0   18  179.0     38   \n",
       "3            Faithless  127.0    92  71.0  -9.0  37.0   53  216.0      6   \n",
       "4        John Hartford  115.0    46  56.0 -12.0  21.0   34  153.0     18   \n",
       "\n",
       "   spch   pop  \n",
       "0  10.5  72.0  \n",
       "1   3.0  59.0  \n",
       "2   3.0  76.0  \n",
       "3   4.0  50.0  \n",
       "4   3.0  44.0  "
      ]
     },
     "execution_count": 283,
     "metadata": {},
     "output_type": "execute_result"
    }
   ],
   "source": [
    "df_test.head()"
   ]
  },
  {
   "cell_type": "code",
   "execution_count": 284,
   "metadata": {},
   "outputs": [
    {
     "data": {
      "text/plain": [
       "adult standards       83\n",
       "album rock            66\n",
       "dance pop             61\n",
       "brill building pop    16\n",
       "glam rock             16\n",
       "                      ..\n",
       "louisiana blues        1\n",
       "british dance band     1\n",
       "canadian folk          1\n",
       "deep house             1\n",
       "brit funk              1\n",
       "Name: top genre, Length: 86, dtype: int64"
      ]
     },
     "execution_count": 284,
     "metadata": {},
     "output_type": "execute_result"
    }
   ],
   "source": [
    "df_train['top genre'].value_counts()"
   ]
  },
  {
   "cell_type": "markdown",
   "metadata": {},
   "source": [
    "le = LabelEncoder()\n",
    "df_train['artist'] = le.fit_transform(df_train['artist'])"
   ]
  },
  {
   "cell_type": "code",
   "execution_count": 285,
   "metadata": {},
   "outputs": [
    {
     "name": "stdout",
     "output_type": "stream",
     "text": [
      "Index(['Connie Francis', 'The Teddy Bears', 'Bee Gees', 'Barbra Streisand',\n",
      "       'Elton John', 'Bruno Mars', 'The Guess Who', 'Boyz II Men',\n",
      "       'Joan Regan', 'Timi Yuro',\n",
      "       ...\n",
      "       'New Order', 'Pat Boone', 'Britney Spears', 'Matthew Wilder',\n",
      "       'Nick Kamen', 'The Searchers', 'Frankie Valli & The Four Seasons',\n",
      "       'Peter And Gordon', 'Nelly', '*NSYNC'],\n",
      "      dtype='object', length=345)\n",
      "RangeIndex(start=0, stop=453, step=1)\n"
     ]
    }
   ],
   "source": [
    "a_encoded, a_categories = df_train['artist'].factorize()\n",
    "from sklearn.preprocessing import OneHotEncoder\n",
    "oh = OneHotEncoder()\n",
    "a_hot = oh.fit_transform(a_encoded.reshape(-1,1))\n",
    "df_train_en= df_train.drop('artist',axis=1)\n",
    "\n",
    "df_train_attri_1 = ['artist']\n",
    "df_train_num_attri_1 = list(df_train_en)\n",
    "enc_data = pd.DataFrame(a_hot.toarray())\n",
    "enc_data.columns = a_categories\n",
    "print(enc_data.columns)\n",
    "enc_data.index = df_train.index\n",
    "print(enc_data.index)\n",
    "\n",
    "df_train_prepared = df_train_en.join(enc_data,how='left', lsuffix='_left', rsuffix='_right')"
   ]
  },
  {
   "cell_type": "code",
   "execution_count": 286,
   "metadata": {},
   "outputs": [],
   "source": [
    "X = df_train_prepared.drop('top genre',axis=1)\n",
    "y = df_train_prepared['top genre']"
   ]
  },
  {
   "cell_type": "code",
   "execution_count": 287,
   "metadata": {},
   "outputs": [],
   "source": [
    "from sklearn.preprocessing import normalize\n",
    "X = normalize(X)\n"
   ]
  },
  {
   "cell_type": "code",
   "execution_count": 288,
   "metadata": {},
   "outputs": [
    {
     "data": {
      "text/plain": [
       "(407, 355)"
      ]
     },
     "execution_count": 288,
     "metadata": {},
     "output_type": "execute_result"
    }
   ],
   "source": [
    "X_train,X_test,y_train,y_test = train_test_split(X,y, test_size = 0.1, random_state = 1)\n",
    "X_train.shape"
   ]
  },
  {
   "cell_type": "code",
   "execution_count": 289,
   "metadata": {},
   "outputs": [],
   "source": [
    "standard_scaler = StandardScaler()\n",
    "standard_scaler.fit(X_train)\n",
    "X_train_ST = standard_scaler.transform(X_train)\n",
    "X_test_ST = standard_scaler.transform(X_test)"
   ]
  },
  {
   "cell_type": "code",
   "execution_count": 290,
   "metadata": {},
   "outputs": [
    {
     "data": {
      "text/plain": [
       "LogisticRegression(multi_class='ovr')"
      ]
     },
     "execution_count": 290,
     "metadata": {},
     "output_type": "execute_result"
    }
   ],
   "source": [
    "log_reg = LogisticRegression(multi_class='ovr')\n",
    "log_reg.fit(X_train_ST,y_train)"
   ]
  },
  {
   "cell_type": "code",
   "execution_count": 291,
   "metadata": {},
   "outputs": [],
   "source": [
    "y_pred_log = log_reg.predict(X_test_ST)"
   ]
  },
  {
   "cell_type": "code",
   "execution_count": 292,
   "metadata": {},
   "outputs": [
    {
     "data": {
      "text/plain": [
       "0.6956521739130435"
      ]
     },
     "execution_count": 292,
     "metadata": {},
     "output_type": "execute_result"
    }
   ],
   "source": [
    "accuracy_score(y_test,y_pred_log)"
   ]
  },
  {
   "cell_type": "code",
   "execution_count": 293,
   "metadata": {},
   "outputs": [
    {
     "data": {
      "text/plain": [
       "RandomForestClassifier(min_samples_split=5, random_state=1)"
      ]
     },
     "execution_count": 293,
     "metadata": {},
     "output_type": "execute_result"
    }
   ],
   "source": [
    "rand_forest = RandomForestClassifier(random_state = 1, min_samples_split = 5)\n",
    "rand_forest.fit(X_train_ST,y_train)"
   ]
  },
  {
   "cell_type": "code",
   "execution_count": 294,
   "metadata": {},
   "outputs": [
    {
     "data": {
      "text/plain": [
       "0.5434782608695652"
      ]
     },
     "execution_count": 294,
     "metadata": {},
     "output_type": "execute_result"
    }
   ],
   "source": [
    "y_pred_rand = rand_forest.predict(X_test_ST)\n",
    "accuracy_score(y_test,y_pred_rand)"
   ]
  },
  {
   "cell_type": "code",
   "execution_count": 295,
   "metadata": {},
   "outputs": [
    {
     "data": {
      "text/plain": [
       "GaussianNB()"
      ]
     },
     "execution_count": 295,
     "metadata": {},
     "output_type": "execute_result"
    }
   ],
   "source": [
    "gua_nb = GaussianNB()\n",
    "gua_nb.fit(X_train_ST,y_train)"
   ]
  },
  {
   "cell_type": "code",
   "execution_count": 296,
   "metadata": {},
   "outputs": [
    {
     "data": {
      "text/plain": [
       "0.4782608695652174"
      ]
     },
     "execution_count": 296,
     "metadata": {},
     "output_type": "execute_result"
    }
   ],
   "source": [
    "y_pred_nb = gua_nb.predict(X_test_ST)\n",
    "accuracy_score(y_test,y_pred_nb)"
   ]
  },
  {
   "cell_type": "code",
   "execution_count": 297,
   "metadata": {},
   "outputs": [
    {
     "data": {
      "text/plain": [
       "SVC()"
      ]
     },
     "execution_count": 297,
     "metadata": {},
     "output_type": "execute_result"
    }
   ],
   "source": [
    "svc = SVC()\n",
    "svc.fit(X_train_ST,y_train)"
   ]
  },
  {
   "cell_type": "code",
   "execution_count": 298,
   "metadata": {},
   "outputs": [
    {
     "data": {
      "text/plain": [
       "0.45652173913043476"
      ]
     },
     "execution_count": 298,
     "metadata": {},
     "output_type": "execute_result"
    }
   ],
   "source": [
    "y_pred_svc = svc.predict(X_test_ST)\n",
    "accuracy_score(y_test,y_pred_svc)"
   ]
  },
  {
   "cell_type": "code",
   "execution_count": 299,
   "metadata": {},
   "outputs": [
    {
     "data": {
      "text/plain": [
       "VotingClassifier(estimators=[('lr', LogisticRegression(multi_class='ovr')),\n",
       "                             ('rf',\n",
       "                              RandomForestClassifier(min_samples_split=5,\n",
       "                                                     random_state=1)),\n",
       "                             ('svc', SVC()), ('gnb', GaussianNB())])"
      ]
     },
     "execution_count": 299,
     "metadata": {},
     "output_type": "execute_result"
    }
   ],
   "source": [
    "voting_clf = VotingClassifier(estimators=[('lr', log_reg), ('rf', rand_forest), ('svc', svc),('gnb',gua_nb)],voting='hard')\n",
    "voting_clf.fit(X_train_ST,y_train)"
   ]
  },
  {
   "cell_type": "code",
   "execution_count": 300,
   "metadata": {},
   "outputs": [
    {
     "name": "stdout",
     "output_type": "stream",
     "text": [
      "LogisticRegression 0.6956521739130435\n",
      "RandomForestClassifier 0.5434782608695652\n",
      "SVC 0.45652173913043476\n",
      "GaussianNB 0.4782608695652174\n",
      "VotingClassifier 0.6521739130434783\n"
     ]
    }
   ],
   "source": [
    "for clf in (log_reg, rand_forest, svc,gua_nb, voting_clf):\n",
    "    clf.fit(X_train_ST, y_train)\n",
    "    ypred = clf.predict(X_test_ST)\n",
    "    print(clf.__class__.__name__, accuracy_score(y_test, ypred))"
   ]
  },
  {
   "cell_type": "code",
   "execution_count": 301,
   "metadata": {},
   "outputs": [
    {
     "data": {
      "text/plain": [
       "PCA(n_components=7)"
      ]
     },
     "execution_count": 301,
     "metadata": {},
     "output_type": "execute_result"
    }
   ],
   "source": [
    "from sklearn.decomposition import PCA\n",
    "pca = PCA(n_components = 7)\n",
    "pca.fit(X)"
   ]
  },
  {
   "cell_type": "code",
   "execution_count": 302,
   "metadata": {},
   "outputs": [
    {
     "data": {
      "text/plain": [
       "array([40.4, 71.7, 83.8, 89.1, 93.8, 96.7, 99.3])"
      ]
     },
     "execution_count": 302,
     "metadata": {},
     "output_type": "execute_result"
    }
   ],
   "source": [
    "variance = pca.explained_variance_ratio_\n",
    "var = np.cumsum(np.round(variance,decimals=3)*100) \n",
    "var"
   ]
  },
  {
   "cell_type": "code",
   "execution_count": 303,
   "metadata": {},
   "outputs": [
    {
     "data": {
      "text/plain": [
       "[<matplotlib.lines.Line2D at 0x1f64b014070>]"
      ]
     },
     "execution_count": 303,
     "metadata": {},
     "output_type": "execute_result"
    },
    {
     "data": {
      "image/png": "[encoded data removed]",
      "text/plain": [
       "<Figure size 432x288 with 1 Axes>"
      ]
     },
     "metadata": {
      "needs_background": "light"
     },
     "output_type": "display_data"
    }
   ],
   "source": [
    "plt.plot(var)"
   ]
  },
  {
   "cell_type": "code",
   "execution_count": 304,
   "metadata": {},
   "outputs": [],
   "source": [
    "from sklearn.metrics import classification_report, confusion_matrix"
   ]
  },
  {
   "cell_type": "code",
   "execution_count": 305,
   "metadata": {},
   "outputs": [
    {
     "name": "stdout",
     "output_type": "stream",
     "text": [
      "                      precision    recall  f1-score   support\n",
      "\n",
      "     adult standards       0.50      1.00      0.67         8\n",
      "          album rock       0.44      0.80      0.57         5\n",
      "            art rock       0.00      0.00      0.00         2\n",
      "         atl hip hop       0.00      0.00      0.00         1\n",
      "    avant-garde jazz       0.00      0.00      0.00         1\n",
      "       barbadian pop       1.00      1.00      1.00         1\n",
      "        british soul       0.00      0.00      0.00         2\n",
      "     bubblegum dance       0.00      0.00      0.00         1\n",
      "        canadian pop       1.00      1.00      1.00         1\n",
      "  classic girl group       0.00      0.00      0.00         1\n",
      "        classic soul       1.00      1.00      1.00         1\n",
      "           dance pop       0.92      0.85      0.88        13\n",
      "          dance rock       1.00      1.00      1.00         1\n",
      "deep adult standards       0.00      0.00      0.00         1\n",
      "               disco       1.00      1.00      1.00         1\n",
      "          glam metal       1.00      1.00      1.00         1\n",
      "           glam rock       1.00      1.00      1.00         2\n",
      "        new wave pop       0.00      0.00      0.00         1\n",
      "                 pop       1.00      1.00      1.00         1\n",
      "           soft rock       0.00      0.00      0.00         1\n",
      "\n",
      "            accuracy                           0.70        46\n",
      "           macro avg       0.49      0.53      0.51        46\n",
      "        weighted avg       0.59      0.70      0.62        46\n",
      "\n"
     ]
    },
    {
     "name": "stderr",
     "output_type": "stream",
     "text": [
      "C:\\Users\\LENOVO\\anaconda3\\lib\\site-packages\\sklearn\\metrics\\_classification.py:1221: UndefinedMetricWarning: Precision and F-score are ill-defined and being set to 0.0 in labels with no predicted samples. Use `zero_division` parameter to control this behavior.\n",
      "  _warn_prf(average, modifier, msg_start, len(result))\n"
     ]
    }
   ],
   "source": [
    "print(classification_report(y_test,y_pred_log))"
   ]
  },
  {
   "cell_type": "code",
   "execution_count": 306,
   "metadata": {},
   "outputs": [
    {
     "data": {
      "text/plain": [
       "(46,)"
      ]
     },
     "execution_count": 306,
     "metadata": {},
     "output_type": "execute_result"
    }
   ],
   "source": [
    "y_test.shape"
   ]
  },
  {
   "cell_type": "code",
   "execution_count": 307,
   "metadata": {},
   "outputs": [
    {
     "data": {
      "text/plain": [
       "(46,)"
      ]
     },
     "execution_count": 307,
     "metadata": {},
     "output_type": "execute_result"
    }
   ],
   "source": [
    "y_pred_log.shape"
   ]
  },
  {
   "cell_type": "code",
   "execution_count": 308,
   "metadata": {},
   "outputs": [
    {
     "name": "stdout",
     "output_type": "stream",
     "text": [
      "[[ 8  0  0  0  0  0  0  0  0  0  0  0  0  0  0  0  0  0  0  0]\n",
      " [ 1  4  0  0  0  0  0  0  0  0  0  0  0  0  0  0  0  0  0  0]\n",
      " [ 2  0  0  0  0  0  0  0  0  0  0  0  0  0  0  0  0  0  0  0]\n",
      " [ 0  0  0  0  0  0  0  0  0  0  0  1  0  0  0  0  0  0  0  0]\n",
      " [ 1  0  0  0  0  0  0  0  0  0  0  0  0  0  0  0  0  0  0  0]\n",
      " [ 0  0  0  0  0  1  0  0  0  0  0  0  0  0  0  0  0  0  0  0]\n",
      " [ 1  1  0  0  0  0  0  0  0  0  0  0  0  0  0  0  0  0  0  0]\n",
      " [ 0  1  0  0  0  0  0  0  0  0  0  0  0  0  0  0  0  0  0  0]\n",
      " [ 0  0  0  0  0  0  0  0  1  0  0  0  0  0  0  0  0  0  0  0]\n",
      " [ 1  0  0  0  0  0  0  0  0  0  0  0  0  0  0  0  0  0  0  0]\n",
      " [ 0  0  0  0  0  0  0  0  0  0  1  0  0  0  0  0  0  0  0  0]\n",
      " [ 0  2  0  0  0  0  0  0  0  0  0 11  0  0  0  0  0  0  0  0]\n",
      " [ 0  0  0  0  0  0  0  0  0  0  0  0  1  0  0  0  0  0  0  0]\n",
      " [ 1  0  0  0  0  0  0  0  0  0  0  0  0  0  0  0  0  0  0  0]\n",
      " [ 0  0  0  0  0  0  0  0  0  0  0  0  0  0  1  0  0  0  0  0]\n",
      " [ 0  0  0  0  0  0  0  0  0  0  0  0  0  0  0  1  0  0  0  0]\n",
      " [ 0  0  0  0  0  0  0  0  0  0  0  0  0  0  0  0  2  0  0  0]\n",
      " [ 0  1  0  0  0  0  0  0  0  0  0  0  0  0  0  0  0  0  0  0]\n",
      " [ 0  0  0  0  0  0  0  0  0  0  0  0  0  0  0  0  0  0  1  0]\n",
      " [ 1  0  0  0  0  0  0  0  0  0  0  0  0  0  0  0  0  0  0  0]]\n"
     ]
    }
   ],
   "source": [
    "c_matrix = confusion_matrix(y_test,y_pred_log)\n",
    "print(c_matrix)"
   ]
  },
  {
   "cell_type": "code",
   "execution_count": 309,
   "metadata": {},
   "outputs": [
    {
     "data": {
      "image/png": "[encoded data removed]",
      "text/plain": [
       "<Figure size 720x720 with 2 Axes>"
      ]
     },
     "metadata": {
      "needs_background": "light"
     },
     "output_type": "display_data"
    }
   ],
   "source": [
    "import seaborn as sns\n",
    "plt.figure(figsize=(10,10))\n",
    "sns.heatmap(c_matrix,annot=True)\n",
    "plt.show()"
   ]
  },
  {
   "cell_type": "code",
   "execution_count": 310,
   "metadata": {},
   "outputs": [],
   "source": [
    "from sklearn.cluster import KMeans"
   ]
  },
  {
   "cell_type": "code",
   "execution_count": 311,
   "metadata": {},
   "outputs": [],
   "source": [
    "kmeans = KMeans(n_clusters=86,random_state=12)\n",
    "kmeans.fit(X_train_ST,y_train)\n",
    "ypred_k = kmeans.predict(X_test_ST)"
   ]
  },
  {
   "cell_type": "code",
   "execution_count": 312,
   "metadata": {},
   "outputs": [
    {
     "data": {
      "text/plain": [
       "array([[ 0.45895878,  0.17606056,  1.22157762, ..., -0.04962917,\n",
       "        -0.04962917, -0.04962917],\n",
       "       [ 0.58201823,  0.82163895,  0.63135946, ..., -0.04962917,\n",
       "        -0.04962917, -0.04962917],\n",
       "       [-0.9581669 , -1.28202259,  0.00489367, ..., -0.04962917,\n",
       "        -0.04962917, -0.04962917],\n",
       "       ...,\n",
       "       [ 1.35018189,  0.93291467, -2.41609285, ..., -0.04962917,\n",
       "        -0.04962917, -0.04962917],\n",
       "       [ 1.84597626, -0.72478646, -1.66446299, ..., -0.04962917,\n",
       "        -0.04962917, -0.04962917],\n",
       "       [ 2.47563365, -0.61342093,  0.61005141, ..., -0.04962917,\n",
       "        -0.04962917, -0.04962917]])"
      ]
     },
     "execution_count": 312,
     "metadata": {},
     "output_type": "execute_result"
    }
   ],
   "source": [
    "kmeans.cluster_centers_"
   ]
  },
  {
   "cell_type": "code",
   "execution_count": 313,
   "metadata": {},
   "outputs": [
    {
     "data": {
      "text/plain": [
       "array([ 1, 64, 34,  1, 24, 66, 66, 66, 66, 24, 66, 66, 66, 66, 51, 72, 66,\n",
       "        1, 66, 66, 66,  1, 14, 66, 10, 24, 24,  1, 66, 66, 66, 66, 48,  9,\n",
       "       62, 66, 66, 66, 30, 66, 66, 61, 44, 81, 66, 26,  1, 38, 24,  1, 66,\n",
       "       45, 66, 66, 66, 36,  1, 66, 77, 66, 66, 66, 51, 60, 81,  1, 66, 66,\n",
       "       43, 66, 49, 68, 66, 66, 66, 66, 66, 66, 66, 66, 66, 66, 43, 54, 85,\n",
       "       59, 81, 66,  1,  1, 22, 18, 67, 66, 32, 66, 76, 66, 66, 66, 38,  1,\n",
       "       66, 55, 56, 66, 66, 66, 24, 16, 71,  1, 66, 66,  2,  1, 58, 66, 66,\n",
       "        1, 56, 66, 66, 66, 66, 66, 66, 50, 66, 66,  1, 24, 65, 79, 66,  8,\n",
       "       66, 66,  1,  1, 66, 24, 83, 70, 66, 24, 74, 75, 38, 66,  1, 66,  1,\n",
       "       66, 48, 66, 42, 84, 66, 66, 74, 66, 66, 12, 66, 54,  1, 66,  1, 45,\n",
       "       66,  1, 24,  4, 66, 11, 23, 66, 66,  1, 66, 38, 66, 66, 57, 66, 76,\n",
       "       66, 67, 12, 66, 36, 24,  4, 13, 66, 20, 81, 66, 66, 66,  5,  1, 66,\n",
       "       66, 70, 81, 66,  1,  1, 73, 66, 46, 66, 24,  1, 66, 24, 66, 40, 35,\n",
       "       15, 31, 10, 66, 66, 66, 17, 11, 28, 24, 29, 66, 66,  1,  1, 24, 66,\n",
       "       66, 44,  1, 42,  6, 66, 66, 24, 66,  9, 66, 25, 52, 50,  7, 66,  3,\n",
       "       73, 66, 66, 66, 66, 66, 66, 16, 66, 24, 66, 66,  1, 66, 24, 66, 66,\n",
       "       53, 66, 32,  1, 66,  1, 66, 17, 66,  1, 66, 66, 66, 25, 66, 57, 66,\n",
       "       66, 23, 66,  1, 24, 66, 66, 66,  4, 66, 66, 66,  1, 31, 66, 66, 24,\n",
       "       66,  1, 66, 66,  3, 24,  1, 64, 66,  1, 66, 66, 30, 81, 66, 21, 66,\n",
       "       66, 74,  1, 66, 19, 66, 66, 24, 16, 80,  1,  1, 66, 61, 66,  1, 33,\n",
       "       37, 66, 11, 66, 69,  1, 66, 66, 29, 66, 66, 33, 66,  1, 24,  5, 66,\n",
       "        1, 27, 66, 66, 66,  4, 66, 39,  1, 47, 66, 53, 66, 23, 21, 66, 66,\n",
       "       78,  1, 66, 45, 66, 66, 63, 66, 81,  1, 66,  1, 66, 66,  1, 66,  3,\n",
       "       11, 41, 66,  1, 66, 66,  0, 66, 66, 71, 66, 66, 66, 66,  1, 82])"
      ]
     },
     "execution_count": 313,
     "metadata": {},
     "output_type": "execute_result"
    }
   ],
   "source": [
    "kmeans.labels_"
   ]
  },
  {
   "cell_type": "code",
   "execution_count": 314,
   "metadata": {},
   "outputs": [
    {
     "data": {
      "text/plain": [
       "array([ 1, 64, 34,  1, 24, 66, 66, 66, 66, 24, 66, 66, 66, 66, 51, 72, 66,\n",
       "        1, 66, 66, 66,  1, 14, 66, 10, 24, 24,  1, 66, 66, 66, 66, 48,  9,\n",
       "       62, 66, 66, 66, 30, 66, 66, 61, 44, 81, 66, 26,  1, 38, 24,  1, 66,\n",
       "       45, 66, 66, 66, 36,  1, 66, 77, 66, 66, 66, 51, 60, 81,  1, 66, 66,\n",
       "       43, 66, 49, 68, 66, 66, 66, 66, 66, 66, 66, 66, 66, 66, 43, 54, 85,\n",
       "       59, 81, 66,  1,  1, 22, 18, 67, 66, 32, 66, 76, 66, 66, 66, 38,  1,\n",
       "       66, 55, 56, 66, 66, 66, 24, 16, 71,  1, 66, 66,  2,  1, 58, 66, 66,\n",
       "        1, 56, 66, 66, 66, 66, 66, 66, 50, 66, 66,  1, 24, 65, 79, 66,  8,\n",
       "       66, 66,  1,  1, 66, 24, 83, 70, 66, 24, 74, 75, 38, 66,  1, 66,  1,\n",
       "       66, 48, 66, 42, 84, 66, 66, 74, 66, 66, 12, 66, 54,  1, 66,  1, 45,\n",
       "       66,  1, 24,  4, 66, 11, 23, 66, 66,  1, 66, 38, 66, 66, 57, 66, 76,\n",
       "       66, 67, 12, 66, 36, 24,  4, 13, 66, 20, 81, 66, 66, 66,  5,  1, 66,\n",
       "       66, 70, 81, 66,  1,  1, 73, 66, 46, 66, 24,  1, 66, 24, 66, 40, 35,\n",
       "       15, 31, 10, 66, 66, 66, 17, 11, 28, 24, 29, 66, 66,  1,  1, 24, 66,\n",
       "       66, 44,  1, 42,  6, 66, 66, 24, 66,  9, 66, 25, 52, 50,  7, 66,  3,\n",
       "       73, 66, 66, 66, 66, 66, 66, 16, 66, 24, 66, 66,  1, 66, 24, 66, 66,\n",
       "       53, 66, 32,  1, 66,  1, 66, 17, 66,  1, 66, 66, 66, 25, 66, 57, 66,\n",
       "       66, 23, 66,  1, 24, 66, 66, 66,  4, 66, 66, 66,  1, 31, 66, 66, 24,\n",
       "       66,  1, 66, 66,  3, 24,  1, 64, 66,  1, 66, 66, 30, 81, 66, 21, 66,\n",
       "       66, 74,  1, 66, 19, 66, 66, 24, 16, 80,  1,  1, 66, 61, 66,  1, 33,\n",
       "       37, 66, 11, 66, 69,  1, 66, 66, 29, 66, 66, 33, 66,  1, 24,  5, 66,\n",
       "        1, 27, 66, 66, 66,  4, 66, 39,  1, 47, 66, 53, 66, 23, 21, 66, 66,\n",
       "       78,  1, 66, 45, 66, 66, 63, 66, 81,  1, 66,  1, 66, 66,  1, 66,  3,\n",
       "       11, 41, 66,  1, 66, 66,  0, 66, 66, 71, 66, 66, 66, 66,  1, 82])"
      ]
     },
     "execution_count": 314,
     "metadata": {},
     "output_type": "execute_result"
    }
   ],
   "source": [
    "kmeans.labels_"
   ]
  },
  {
   "cell_type": "code",
   "execution_count": 315,
   "metadata": {},
   "outputs": [
    {
     "data": {
      "text/plain": [
       "0.04387388696957094"
      ]
     },
     "execution_count": 315,
     "metadata": {},
     "output_type": "execute_result"
    }
   ],
   "source": [
    "from sklearn.metrics import silhouette_score\n",
    "silhouette_score(X_train_ST, kmeans.labels_)"
   ]
  },
  {
   "cell_type": "code",
   "execution_count": 316,
   "metadata": {},
   "outputs": [
    {
     "data": {
      "text/plain": [
       "DecisionTreeClassifier(max_depth=10, random_state=12)"
      ]
     },
     "execution_count": 316,
     "metadata": {},
     "output_type": "execute_result"
    }
   ],
   "source": [
    "from sklearn.tree import DecisionTreeClassifier\n",
    "dtc = DecisionTreeClassifier(random_state=12,max_depth=10)\n",
    "dtc.fit(X_train_ST,y_train)"
   ]
  },
  {
   "cell_type": "code",
   "execution_count": 317,
   "metadata": {},
   "outputs": [],
   "source": [
    "ypred_dtc = dtc.predict(X_test_ST)"
   ]
  },
  {
   "cell_type": "code",
   "execution_count": 318,
   "metadata": {},
   "outputs": [
    {
     "data": {
      "text/plain": [
       "0.2826086956521739"
      ]
     },
     "execution_count": 318,
     "metadata": {},
     "output_type": "execute_result"
    }
   ],
   "source": [
    "accuracy_score(y_test,ypred_dtc)"
   ]
  },
  {
   "cell_type": "code",
   "execution_count": null,
   "metadata": {},
   "outputs": [],
   "source": []
  },
  {
   "cell_type": "code",
   "execution_count": null,
   "metadata": {},
   "outputs": [],
   "source": []
  },
  {
   "cell_type": "code",
   "execution_count": null,
   "metadata": {},
   "outputs": [],
   "source": []
  }
 ],
 "metadata": {
  "kernelspec": {
   "display_name": "Python 3 (ipykernel)",
   "language": "python",
   "name": "python3"
  },
  "language_info": {
   "codemirror_mode": {
    "name": "ipython",
    "version": 3
   },
   "file_extension": ".py",
   "mimetype": "text/x-python",
   "name": "python",
   "nbconvert_exporter": "python",
   "pygments_lexer": "ipython3",
   "version": "3.9.7"
  }
 },
 "nbformat": 4,
 "nbformat_minor": 4
}
